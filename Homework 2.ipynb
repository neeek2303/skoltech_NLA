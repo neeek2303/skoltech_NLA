{
 "cells": [
  {
   "cell_type": "markdown",
   "metadata": {},
   "source": [
    "# Problem set 2 (145 pts)"
   ]
  },
  {
   "cell_type": "markdown",
   "metadata": {},
   "source": [
    "## Problem 1 (LU decomposition) 25 pts"
   ]
  },
  {
   "cell_type": "markdown",
   "metadata": {},
   "source": [
    "### 1. LU for band matrices (7 pts)\n",
    "\n",
    "The complexity to find an LU decomposition of a dense $n\\times n$ matrix is $\\mathcal{O}(n^3)$.\n",
    "Significant reduction in complexity can be achieved if the matrix has a certain structure, e.g. it is sparse. \n",
    "In the following task we consider an important example of $LU$ for a special type of sparse matrices –– band matrices with the bandwidth $m$ equal to 3 or 5 which called tridiagonal and pentadiagonal respectively.\n",
    "\n",
    "- (5 pts) Write a function ```band_lu(diag_broadcast, n)``` which computes LU decomposition for tridiagonal or pentadiagonal matrix with given diagonal values. \n",
    "For example, input parametres ```(diag_broadcast = [4,-2,1], n = 4)``` mean that we need to find LU decomposition for the triangular matrix of the form:\n",
    "\n",
    "$$A = \\begin{pmatrix}\n",
    "-2 & 1 & 0 & 0\\\\\n",
    "4 & -2 & 1 & 0 \\\\\n",
    "0 & 4 & -2 & 1 \\\\\n",
    "0 & 0 & 4 & -2 \\\\\n",
    "\\end{pmatrix}.$$\n",
    "\n",
    "As an output it is considered to make ```L``` and ```U``` - 2D arrays representing diagonals in factors $L$ (```L[0]``` keeps first lower diagonal, ```L[1]``` keeps second lower, ...), and $U$ (```U[:,0]``` keeps main diagonal, ```U[:,1]``` keeps first upper, ...).\n",
    "- (2 pts) Compare execution time of the band LU decomposition using standard function from ```scipy```, i.e. which takes the whole matrix and does not know about its special structure, and band decomposition of yours implementation. Comment on the results."
   ]
  },
  {
   "cell_type": "code",
   "execution_count": 1,
   "metadata": {},
   "outputs": [],
   "source": [
    "import numpy as np\n",
    "from scipy.sparse import diags\n",
    "from scipy.linalg import lu\n",
    "import time\n"
   ]
  },
  {
   "cell_type": "code",
   "execution_count": 2,
   "metadata": {},
   "outputs": [],
   "source": [
    "A = diags([1,2,20,3,4], [-2,-1, 0, 1, 2], shape=(5,5)).toarray()"
   ]
  },
  {
   "cell_type": "code",
   "execution_count": 3,
   "metadata": {},
   "outputs": [],
   "source": [
    "L, U = lu(A, permute_l=True)"
   ]
  },
  {
   "cell_type": "code",
   "execution_count": 4,
   "metadata": {},
   "outputs": [
    {
     "data": {
      "text/plain": [
       "array([[20.,  3.,  4.,  0.,  0.],\n",
       "       [ 2., 20.,  3.,  4.,  0.],\n",
       "       [ 1.,  2., 20.,  3.,  4.],\n",
       "       [ 0.,  1.,  2., 20.,  3.],\n",
       "       [ 0.,  0.,  1.,  2., 20.]])"
      ]
     },
     "execution_count": 4,
     "metadata": {},
     "output_type": "execute_result"
    }
   ],
   "source": [
    "A"
   ]
  },
  {
   "cell_type": "code",
   "execution_count": 5,
   "metadata": {},
   "outputs": [
    {
     "data": {
      "text/plain": [
       "array([[1.        , 0.        , 0.        , 0.        , 0.        ],\n",
       "       [0.1       , 1.        , 0.        , 0.        , 0.        ],\n",
       "       [0.05      , 0.09390863, 1.        , 0.        , 0.        ],\n",
       "       [0.        , 0.05076142, 0.09552239, 1.        , 0.        ],\n",
       "       [0.        , 0.        , 0.05113563, 0.09545563, 1.        ]])"
      ]
     },
     "execution_count": 5,
     "metadata": {},
     "output_type": "execute_result"
    }
   ],
   "source": [
    "L"
   ]
  },
  {
   "cell_type": "code",
   "execution_count": 6,
   "metadata": {},
   "outputs": [
    {
     "data": {
      "text/plain": [
       "array([[20.        ,  3.        ,  4.        ,  0.        ,  0.        ],\n",
       "       [ 0.        , 19.7       ,  2.6       ,  4.        ,  0.        ],\n",
       "       [ 0.        ,  0.        , 19.55583756,  2.62436548,  4.        ],\n",
       "       [ 0.        ,  0.        ,  0.        , 19.54626866,  2.61791045],\n",
       "       [ 0.        ,  0.        ,  0.        ,  0.        , 19.5455632 ]])"
      ]
     },
     "execution_count": 6,
     "metadata": {},
     "output_type": "execute_result"
    }
   ],
   "source": [
    "U"
   ]
  },
  {
   "cell_type": "code",
   "execution_count": 7,
   "metadata": {},
   "outputs": [],
   "source": [
    "def band_lu(diag, n):\n",
    "    n_d = len(diag)\n",
    "    if n_d==3:\n",
    "        diagonals = [[diag[0] for i in range(n-1)],[diag[1] for i in range(n)],[diag[2] for i in range(n-1)]]\n",
    "        a = diagonals[0]\n",
    "        b = diagonals[1] \n",
    "        c = diagonals[2] \n",
    "        n = len( b )\n",
    "        for i in range( 1, n ):\n",
    "            a[i-1] = a[i-1] / b[i-1]\n",
    "            b[i] = b[i] - a[i-1] * c[i-1]\n",
    "        U = [b,c]\n",
    "        L = [a]\n",
    "    elif n_d==5:\n",
    "        diagonals=[[diag[0] for i in range(n-2)],[diag[1] for i in range(n-1)],[diag[2] for i in range(n)],[diag[3] for i in range(n-1)],[diag[4] for i in range(n-2)]]\n",
    "        a = diagonals[4] \n",
    "        b = diagonals[3] \n",
    "        c = diagonals[2] \n",
    "        d = diagonals[1] \n",
    "        e = diagonals[0] \n",
    "        \n",
    "        n = len( c )\n",
    "        a = [0]+[0]+[0]+a\n",
    "        b = [0]+[0]+b\n",
    "        c = [0]+c\n",
    "        d = [0]+d\n",
    "        e = [0]+e\n",
    "        l = len(c)\n",
    "        a_new, b_new, c_new, d_new, e_new =[0]*l, [0]*l, [0]*l, [0]*l, [0]*l \n",
    "        b_new[2] = b[2]\n",
    "        c_new[1] = c[1]\n",
    "        d_new[1] =-d[1]/c_new[1]\n",
    "        e_new[1] = -e[1]/c_new[1]\n",
    "        c_new[2] = c[2]+b[2]*d_new[1]\n",
    "        d_new[2] = -(d[2]+b[2]*e_new[1])/c_new[2]\n",
    "        e_new[2] = -e[2]/c_new[2]\n",
    "        for i in range(3, n+1):\n",
    "            c_new[i] = c[i] + (a[i]*d_new[i-2]+b[i])*d_new[i-1]+a[i]*e_new[i-2]\n",
    "            if i<=n-1:\n",
    "                d_new[i] = -(d[i]+(a[i]*d_new[i-2]+b[i])*e_new[i-1])/c_new[i]\n",
    "            if i<=n-2:    \n",
    "                e_new[i] = -e[i]/c_new[i]\n",
    "            b_new[i] = a[i]*d_new[i-2]+b[i]\n",
    "            a_new[i] = a[i]\n",
    "        d_new = [-i for i in d_new]\n",
    "        e_new = [-i for i in e_new]\n",
    "        U = [c_new[1:], b_new[2:], a_new[3:] ]\n",
    "        L = [d_new[1:-1], e_new[1:-2]]\n",
    "    else:\n",
    "        raise NotImplementedError() \n",
    "    return L, U\n"
   ]
  },
  {
   "cell_type": "code",
   "execution_count": null,
   "metadata": {},
   "outputs": [],
   "source": []
  },
  {
   "cell_type": "code",
   "execution_count": 8,
   "metadata": {},
   "outputs": [],
   "source": [
    "# Check\n",
    "digs = [2,20,3]\n",
    "l = 5\n",
    "\n",
    "n = len(digs)\n",
    "_L, _U = band_lu(digs,l) \n",
    "ones = [1]*l\n",
    "\n",
    "L = diags([ones]+[i for i in _L], [i for i in range(0,-(n+1)//2,-1)]).toarray()\n",
    "U = diags([i for i in _U],  [i for i in range(0,(n+1)//2,1)]).toarray()"
   ]
  },
  {
   "cell_type": "code",
   "execution_count": 9,
   "metadata": {},
   "outputs": [
    {
     "data": {
      "text/plain": [
       "array([[20.        ,  3.        ,  0.        ,  0.        ,  0.        ],\n",
       "       [ 0.        , 19.7       ,  3.        ,  0.        ,  0.        ],\n",
       "       [ 0.        ,  0.        , 19.69543147,  3.        ,  0.        ],\n",
       "       [ 0.        ,  0.        ,  0.        , 19.69536082,  3.        ],\n",
       "       [ 0.        ,  0.        ,  0.        ,  0.        , 19.69535973]])"
      ]
     },
     "execution_count": 9,
     "metadata": {},
     "output_type": "execute_result"
    }
   ],
   "source": [
    "U"
   ]
  },
  {
   "cell_type": "code",
   "execution_count": 10,
   "metadata": {},
   "outputs": [
    {
     "data": {
      "text/plain": [
       "array([[1.        , 0.        , 0.        , 0.        , 0.        ],\n",
       "       [0.1       , 1.        , 0.        , 0.        , 0.        ],\n",
       "       [0.        , 0.10152284, 1.        , 0.        , 0.        ],\n",
       "       [0.        , 0.        , 0.10154639, 1.        , 0.        ],\n",
       "       [0.        , 0.        , 0.        , 0.10154676, 1.        ]])"
      ]
     },
     "execution_count": 10,
     "metadata": {},
     "output_type": "execute_result"
    }
   ],
   "source": [
    "L"
   ]
  },
  {
   "cell_type": "code",
   "execution_count": 11,
   "metadata": {},
   "outputs": [
    {
     "data": {
      "text/plain": [
       "array([[20.,  3.,  0.,  0.,  0.],\n",
       "       [ 2., 20.,  3.,  0.,  0.],\n",
       "       [ 0.,  2., 20.,  3.,  0.],\n",
       "       [ 0.,  0.,  2., 20.,  3.],\n",
       "       [ 0.,  0.,  0.,  2., 20.]])"
      ]
     },
     "execution_count": 11,
     "metadata": {},
     "output_type": "execute_result"
    }
   ],
   "source": [
    "L@U"
   ]
  },
  {
   "cell_type": "code",
   "execution_count": null,
   "metadata": {},
   "outputs": [],
   "source": []
  },
  {
   "cell_type": "code",
   "execution_count": 12,
   "metadata": {},
   "outputs": [
    {
     "name": "stdout",
     "output_type": "stream",
     "text": [
      "band_lu = 0.008013800000014726\n",
      "scipy = 0.055444500000021435\n"
     ]
    },
    {
     "name": "stderr",
     "output_type": "stream",
     "text": [
      "C:\\Users\\neeek\\Anaconda3\\lib\\site-packages\\ipykernel_launcher.py:1: DeprecationWarning: time.clock has been deprecated in Python 3.3 and will be removed from Python 3.8: use time.perf_counter or time.process_time instead\n",
      "  \"\"\"Entry point for launching an IPython kernel.\n",
      "C:\\Users\\neeek\\Anaconda3\\lib\\site-packages\\ipykernel_launcher.py:8: DeprecationWarning: time.clock has been deprecated in Python 3.3 and will be removed from Python 3.8: use time.perf_counter or time.process_time instead\n",
      "  \n"
     ]
    }
   ],
   "source": [
    "start_time = time.clock()\n",
    "diag_broadcast =[1,2,20,3,4]\n",
    "n = 1000\n",
    "matrix = diags(diag_broadcast, [-2,-1, 0, 1, 2], shape=(n,n)).toarray()\n",
    "L, U = band_lu(diag_broadcast, n)\n",
    "print('band_lu =', time.perf_counter() - start_time)\n",
    "\n",
    "start_time1 = time.clock()\n",
    "p, l, u = lu(matrix)\n",
    "print('scipy =', time.perf_counter() - start_time1)"
   ]
  },
  {
   "cell_type": "markdown",
   "metadata": {},
   "source": [
    "## Scipy takes more time because its make all multiplications, our algorithm do only necessary multiplications - differentiantion is huge if matrix is big"
   ]
  },
  {
   "cell_type": "code",
   "execution_count": 14,
   "metadata": {},
   "outputs": [],
   "source": [
    "# Your solution is here"
   ]
  },
  {
   "cell_type": "markdown",
   "metadata": {},
   "source": [
    "### 2. Stability of LU (8 pts)\n",
    "\n",
    "Let\n",
    "$A = \\begin{pmatrix}\n",
    "\\varepsilon & 1 & 0\\\\\n",
    "1 & 1 & 1 \\\\\n",
    "0 & 1 & 1\n",
    "\\end{pmatrix}.$ \n",
    "* (5 pts) Find analytically LU decomposition with and without pivoting for the matrix $A$.\n",
    "* (3 pts) Explain, why can the LU decomposition fail to approximate factors $L$ and $U$ for $|\\varepsilon|\\ll 1$ in computer arithmetic?"
   ]
  },
  {
   "cell_type": "markdown",
   "metadata": {},
   "source": [
    "\n",
    "\n",
    "if $\\varepsilon = 0$ we don't have LU decomposition because without pivoting A = LU, L -  unit lower triangular, U -  upper triangular. A should be strictly regular.\n",
    "\n",
    "$\n",
    "L =\n",
    "=  \\begin{pmatrix}\n",
    "1 & 0 & 0\\\\\n",
    "l_1 & 1 & 0 \\\\\n",
    "0 & l_2 & 1\n",
    "\\end{pmatrix}\\\\\n",
    "$\n",
    "\n",
    "$\n",
    "U =\n",
    "\\begin{pmatrix}\n",
    "u_1 & 1 & 0\\\\\n",
    "0 & u_2 & 1 \\\\\n",
    "0 & 0 & u_3\n",
    "\\end{pmatrix}    $ \n",
    "\n",
    "\n",
    "$\\varepsilon \\neq 0$\n",
    "\n",
    "\n",
    "\n",
    "$ \\varepsilon = u_1 $\n",
    "\n",
    "$l_1 = \\frac{1}{\\varepsilon}$\n",
    "\n",
    "$l_1 + u_2 = 1 \\rightarrow u_2 = 1 - \\frac{1}{\\varepsilon} = \\frac{\\varepsilon - 1  }{\\varepsilon} $\n",
    "\n",
    "$l_2 u_2 = 1 \\rightarrow l_2 = \\frac{\\varepsilon  }{\\varepsilon -1} $\n",
    "\n",
    "$l_2 + u_3 = 1 \\rightarrow u_3 = \\frac{-1 }{\\varepsilon -1} $\n",
    "\n",
    "if $\\varepsilon = 1$, we get division by zero. So $\\varepsilon \\neq  1$\n",
    "\n",
    "if $\\varepsilon -> 0$, that $u_2  -> \\infty $ and $l_1 - > \\infty $\n",
    "\n",
    "$ \n",
    "L =\\begin{pmatrix}\n",
    "1 & 0 & 0\\\\\n",
    "\\frac{1}{\\varepsilon} & 1 & 0 \\\\\n",
    "0 & \\frac{\\varepsilon  }{\\varepsilon -1} & 1\n",
    "\\end{pmatrix} \\\\\n",
    "$\n",
    "\n",
    "$\n",
    "U = \n",
    "\\begin{pmatrix}\n",
    "\\varepsilon  & 1 & 0\\\\\n",
    "0 & \\frac{\\varepsilon - 1  }{\\varepsilon} & 1 \\\\\n",
    "0 & 0 &  \\frac{-1 }{\\varepsilon -1}\n",
    "\\end{pmatrix}     $ \n",
    "\n",
    "with pivoting: A = PLU, P - is a permutation matrix, PLU factorization is not unique, there are a lot of different P, L, U\n",
    "\n",
    "\n",
    "$ \n",
    "P^{-1} A = \\begin{pmatrix}\n",
    "1 & 1 & 1\\\\\n",
    "\\varepsilon & 1 & 0 \\\\\n",
    "0 & 1 & 1\n",
    "\\end{pmatrix} = \n",
    "\\begin{pmatrix}\n",
    "1 & 0 & 0\\\\\n",
    "l_1 & 1 & 0 \\\\\n",
    "0 & l_2 & 1\n",
    "\\end{pmatrix}  \n",
    "\\begin{pmatrix}\n",
    "u_1 & m_0 & 1\\\\\n",
    "0 & u_2 & m_1 \\\\\n",
    "0 & 0 & u_3\n",
    "\\end{pmatrix} =  \\begin{pmatrix}\n",
    "u_1 & m_0 + u_1 & 1\\\\\n",
    "l_1 u_0  & l_1 m_0 + u_1 & l_1 + m_1 \\\\\n",
    "0 & l_2 u_1 & l_2 m_1 + u_2\n",
    "\\end{pmatrix} = \\begin{pmatrix}\n",
    "u_1 & m_0 + u_1 & 1\\\\\n",
    "l_1 u_0  & l_1 m_0 + u_1 & l_1 + m_1 \\\\\n",
    "0 & l_2 u_1 & l_2 m_1 + u_2\n",
    "\\end{pmatrix} $ \n",
    "\n",
    "\n",
    "$ P = \\begin{pmatrix}\n",
    "0 & 1 & 0\\\\\n",
    "1 & 0 & 0 \\\\\n",
    "0 & 0 & 1\n",
    "\\end{pmatrix} $\n",
    "\n",
    "$P^{-1} A =  \\begin{pmatrix}\n",
    "1 & 0 & 0\\\\\n",
    "\\varepsilon & 1 & 0 \\\\\n",
    "0 & 1 & 1\n",
    "\\end{pmatrix}  \n",
    "\\begin{pmatrix}\n",
    "1 & 0 & 1\\\\\n",
    "0 & 1 & -\\varepsilon \\\\\n",
    "0 & 0 & 1+ \\varepsilon\n",
    "\\end{pmatrix} $\n",
    "\n"
   ]
  },
  {
   "cell_type": "markdown",
   "metadata": {},
   "source": [
    "### 3. Block LU (10 pts)\n",
    "\n",
    "Let $A = \\begin{bmatrix} A_{11} & A_{12} \\\\ A_{21} & A_{22} \\end{bmatrix}$ be a block matrix. The goal is to solve the linear system\n",
    "\n",
    "$$\n",
    "     \\begin{bmatrix} A_{11} & A_{12} \\\\ A_{21} & A_{22} \\end{bmatrix} \\begin{bmatrix} u_1 \\\\ u_2 \\end{bmatrix} = \\begin{bmatrix} f_1 \\\\ f_2 \\end{bmatrix}.\n",
    "$$\n",
    "\n",
    "* (2 pts) Using block elimination find matrix $S$ and right-hand side $\\hat{f_2}$ so that $u_2$ can be found from $S u_2 = \\hat{f_2}$. Note that the matrix $S$ is called <font color='red'> Schur complement </font> of the block $A_{11}$.\n",
    "* (4 pts) Using Schur complement properties prove that \n",
    "\n",
    "$$\\det(X+AB) = \\det(X)\\det(I+BX^{-1}A), $$\n",
    "\n",
    "\n",
    "where $X$ - nonsingular square matrix.\n",
    "* (4 pts) Let matrix $F \\in \\mathbb{R}^{m \\times n}$ and $G \\in \\mathbb{R}^{n \\times m}$. Prove that \n",
    "\n",
    "$$\\det(I_m - FG) = \\det(I_n - GF).$$"
   ]
  },
  {
   "cell_type": "markdown",
   "metadata": {},
   "source": [
    "#### 3.1\n",
    "\n",
    "$\\begin{bmatrix} \n",
    "A_{11} & A_{12} \\\\ A_{21} & A_{22} \\end{bmatrix}\n",
    "\\begin{bmatrix} u_1 \\\\ u_2 \\end{bmatrix} = \\begin{bmatrix} f_1 \\\\ f_2 \\end{bmatrix} $\n",
    "\n",
    "$ \\begin{bmatrix} \n",
    "A_{11} & A_{12} \\\\ A_{21} & A_{22} \\end{bmatrix} = \\begin{bmatrix} \n",
    "L_{11} & 0 \\\\ L_{21} & L_{22} \\end{bmatrix} \\begin{bmatrix} \n",
    "U_{11} & U_{12} \\\\ 0 & U_{22} \\end{bmatrix} = \\begin{bmatrix} \n",
    "L_{11} U_{11} & L_{11} U_{12} \\\\ L_{21} U_{11} & L_{21} U_{12} + L_{22} U_{22} \\end{bmatrix} $\n",
    "\n",
    "$U_{12} = L^{-1}_{11} A_{12}$\n",
    "\n",
    "$L_{21} = A_{21} U^{-1}_{11} $\n",
    "\n",
    "$ L_{22} U_{22} = A_{22} - L_{21} U_{12} = A_{22} - A_{21} U^{-1}_{11} L^{-1}_{11} A_{12} = A_{22} - A_{21} A^{-1}_{11} A_{12} = S$\n",
    "\n",
    "$ \\hat{f_2} = f_2 - A_{21} A^{-1}_{11} f_1$"
   ]
  },
  {
   "cell_type": "markdown",
   "metadata": {},
   "source": [
    "#### 3.2 \n",
    "\n",
    "$M = \\begin{bmatrix} \n",
    "A & B \\\\ C & D \\end{bmatrix} = \\begin{bmatrix} \n",
    "I & 0 \\\\ CA^{-1} & I \\end{bmatrix} \\begin{bmatrix} \n",
    "A & 0 \\\\ 0 & D-C^{-1}AB \\end{bmatrix} \\begin{bmatrix} \n",
    "I & A^{-1}B \\\\ 0 & I \\end{bmatrix} = \\begin{bmatrix} \n",
    "I & BD^{-1} \\\\ 0 & I \\end{bmatrix} \\begin{bmatrix} \n",
    "A-BD^{-1}C & 0 \\\\0 & D \\end{bmatrix} \\begin{bmatrix} \n",
    "I & 0 \\\\ D^{-1}C & I \\end{bmatrix} $\n",
    "\n",
    "$det(M) = det(D)det(A - B D^{-1}C) = det(A)det(D - C A^{-1}B) $\n",
    "\n",
    "Let's $ M = \\begin{bmatrix} \n",
    "X & A \\\\ -B & I \\end{bmatrix} = \\det(X+AB) = \\det(X)\\det(I+BX^{-1}A) $\n",
    "\n"
   ]
  },
  {
   "cell_type": "markdown",
   "metadata": {},
   "source": [
    "#### 3.3 \n",
    "just use previous formula for\n",
    "$M = \\begin{bmatrix} \n",
    "I_m & F \\\\ G & I_n \\end{bmatrix} $ => $det(M) = det(I_n)det(I_m - F G) = det(I_m)det(I_n - GF) $"
   ]
  },
  {
   "cell_type": "code",
   "execution_count": null,
   "metadata": {},
   "outputs": [],
   "source": []
  },
  {
   "cell_type": "markdown",
   "metadata": {
    "slideshow": {
     "slide_type": "fragment"
    }
   },
   "source": [
    "## Problem 2 (QR decomposition) 30 pts\n",
    "\n",
    "### 1. Standard Gram-Schmidt algorithm (18 pts)\n",
    "Our goal is to orthogonalize a system of linearly independent vectors $v_1,\\dots,v_n$.\n",
    "The standard algorithm for this task is the Gram-Schmidt process:\n",
    "\n",
    "$$\n",
    "\\begin{split}\n",
    "u_1 &= v_1, \\\\\n",
    "u_2 &= v_2 - \\frac{(v_2, u_1)}{(u_1, u_1)} u_1, \\\\\n",
    "\\dots \\\\\n",
    "u_n &= v_n - \\frac{(v_n, u_1)}{(u_1, u_1)} u_1 - \\frac{(v_n, u_2)}{(u_2, u_2)} u_2 - \\dots - \\frac{(v_n, u_{n-1})}{(u_{n-1}, u_{n-1})} u_{n-1}.\n",
    "\\end{split}\n",
    "$$\n",
    "\n",
    "Obtained $u_1, \\dots, u_n$ are orthogonal vectors in exact arithmetics. Then to make the system orthonormal you should divide each of the vectors by its norm: $u_i := u_i/\\|u_i\\|$.\n",
    "The Gram-Schmidt process can be considered as a QR decomposition. Let us show that."
   ]
  },
  {
   "cell_type": "markdown",
   "metadata": {},
   "source": [
    "* (2 pts) Write out what is matrices $Q$ and $R$ obtained in the process above. \n",
    "\n",
    "* (5 pts) Implement the described Gram-Schmidt algorithm as a function ```gram_schmidt_qr(A)``` that takes a rectangular matrix ```A``` and outputs ```Q,R```.\n",
    "\n",
    "* (3 pts) Create a rectangular matrix $K = [x, Ax, A^2x, \\ldots, A^kx]$ where $A \\in \\mathbb{R}^{100 \\times 100}$ is a random matrix and $x$ is a random vector of the appropriate dimension, $k = 20$.  \n",
    "The loss of orthogonality can be described by the following error: $\\|Q^{\\top}Q-I\\|_2$, where $Q^{\\top}Q$ is called a Gram matrix. Compute QR decomposition of the created matrix $K$ with function that you have implemented and calculate error $\\|Q^{\\top}Q-I\\|_2$. Comment on the result.\n",
    "\n",
    "* (5 pts) The observed loss of orthogonality is a problem of this particular algorithm. Luckily, there is [a simple improvement to the algorithm above](https://en.wikipedia.org/wiki/Gram–Schmidt_process#Numerical_stability) that reduces the loss of orthogonality. Implement this modification as a function ```modified_gram_schmidt_qr(A)``` such that input and output are similar to ```gram_schmidt_qr(A)```. \n",
    "* (3 pts) Compute QR decomposition of the matrix $K$ from the previous task with the function ```modified_gram_schmidt_qr(A)```.\n",
    "Compute error $\\|Q^{\\top}Q-I\\|_2$. Compare this error to the error obtained with a \"pure\" Gram-Schmidt and comment on the result."
   ]
  },
  {
   "cell_type": "markdown",
   "metadata": {},
   "source": [
    "\n",
    "\n",
    "$Q$ is an orthogonal matrix and $R$ is an upper triangular matrix.\n",
    "\n",
    "$ Q = [\\frac{u_1}{\\|u_1\\|}, ..., \\frac{u_n}{\\|u_n\\|}] $\n",
    "\n",
    "$R$ - is a matrix of transition matrix, $R = Q^T A$"
   ]
  },
  {
   "cell_type": "code",
   "execution_count": 29,
   "metadata": {},
   "outputs": [],
   "source": [
    "def gram_schmidt_qr(A):\n",
    "    \n",
    "    Q = []\n",
    "    A = A.transpose()\n",
    "    m = A.copy()\n",
    "    u = A\n",
    "\n",
    "    summ = 0\n",
    "    for i in range(1, A.shape[0]):\n",
    "        for j in range(0, i):\n",
    "            summ = summ + (np.dot(A[i], u[j])/np.dot(u[j],u[j]))*u[j]\n",
    "        for s in range(0, i):\n",
    "            u[i] = u[i] - summ\n",
    "        summ = 0\n",
    "            \n",
    "    for k in range(u.shape[0]):\n",
    "        Q.append(u[k]/(np.linalg.norm(u[k], ord=2)))\n",
    "    \n",
    "    R = np.dot(Q, m.transpose())\n",
    "    \n",
    "    return np.transpose(Q), R"
   ]
  },
  {
   "cell_type": "code",
   "execution_count": 30,
   "metadata": {},
   "outputs": [],
   "source": [
    "A = np.array([[12, -51], [6, 167], [-4, 24]])\n",
    "Q, R = gram_schmidt_qr(A)"
   ]
  },
  {
   "cell_type": "code",
   "execution_count": 31,
   "metadata": {},
   "outputs": [
    {
     "data": {
      "text/plain": [
       "array([[ 0.85714286, -0.39428571],\n",
       "       [ 0.42857143,  0.90285714],\n",
       "       [-0.28571429,  0.17142857]])"
      ]
     },
     "execution_count": 31,
     "metadata": {},
     "output_type": "execute_result"
    }
   ],
   "source": [
    "Q"
   ]
  },
  {
   "cell_type": "code",
   "execution_count": 32,
   "metadata": {},
   "outputs": [
    {
     "data": {
      "text/plain": [
       "array([[ 1.40000000e+01,  2.10000000e+01],\n",
       "       [-6.66133815e-16,  1.75000000e+02]])"
      ]
     },
     "execution_count": 32,
     "metadata": {},
     "output_type": "execute_result"
    }
   ],
   "source": [
    "R"
   ]
  },
  {
   "cell_type": "code",
   "execution_count": 33,
   "metadata": {},
   "outputs": [],
   "source": [
    "from numpy.linalg import matrix_power as mp"
   ]
  },
  {
   "cell_type": "code",
   "execution_count": 34,
   "metadata": {},
   "outputs": [],
   "source": [
    "A = np.random.randn(100,100)"
   ]
  },
  {
   "cell_type": "code",
   "execution_count": 35,
   "metadata": {},
   "outputs": [],
   "source": [
    "x = np.random.randn(100).reshape(-1,1)"
   ]
  },
  {
   "cell_type": "code",
   "execution_count": 36,
   "metadata": {},
   "outputs": [],
   "source": [
    "_K = [mp(A,k)@x for k in range(21)]"
   ]
  },
  {
   "cell_type": "code",
   "execution_count": 37,
   "metadata": {},
   "outputs": [],
   "source": [
    "K = np.hstack(_K)"
   ]
  },
  {
   "cell_type": "code",
   "execution_count": 38,
   "metadata": {},
   "outputs": [
    {
     "data": {
      "text/plain": [
       "(100, 21)"
      ]
     },
     "execution_count": 38,
     "metadata": {},
     "output_type": "execute_result"
    }
   ],
   "source": [
    "K.shape"
   ]
  },
  {
   "cell_type": "code",
   "execution_count": 39,
   "metadata": {},
   "outputs": [
    {
     "data": {
      "text/plain": [
       "8.748614791407453"
      ]
     },
     "execution_count": 39,
     "metadata": {},
     "output_type": "execute_result"
    }
   ],
   "source": [
    "x = np.linspace(0,1, 20)\n",
    "# V = np.vander(x, 20)\n",
    "    \n",
    "Q_v, R_v = gram_schmidt_qr(K)\n",
    "I = np.identity(21)\n",
    "np.linalg.norm(np.dot(np.transpose(Q_v), Q_v) - I, ord=2)"
   ]
  },
  {
   "cell_type": "code",
   "execution_count": null,
   "metadata": {},
   "outputs": [],
   "source": []
  },
  {
   "cell_type": "code",
   "execution_count": 40,
   "metadata": {},
   "outputs": [],
   "source": [
    "def modified_gram_schmidt_qr(A):\n",
    "    \n",
    "    Q = []\n",
    "    A = A.transpose()\n",
    "    m = A.copy()\n",
    "    u = A\n",
    "    \n",
    "    for i in range(1, A.shape[0]):\n",
    "        for j in range(0, i):\n",
    "            r = np.dot(A[i], u[j])/np.dot(u[j],u[j])\n",
    "            u[i] = u[i] - r*u[j]\n",
    "    \n",
    "    for k in range(u.shape[0]):\n",
    "        Q.append(u[k]/(np.linalg.norm(u[k], ord=2)))\n",
    "        \n",
    "    R = np.dot(Q, m.transpose())\n",
    "    \n",
    "    return np.transpose(Q), R"
   ]
  },
  {
   "cell_type": "code",
   "execution_count": 41,
   "metadata": {},
   "outputs": [
    {
     "data": {
      "text/plain": [
       "4.3204481674065137e-14"
      ]
     },
     "execution_count": 41,
     "metadata": {},
     "output_type": "execute_result"
    }
   ],
   "source": [
    "Q_m, R_m = modified_gram_schmidt_qr(K)\n",
    "np.linalg.norm(np.dot(np.transpose(Q_m), Q_m) - I, ord=2)"
   ]
  },
  {
   "cell_type": "markdown",
   "metadata": {},
   "source": [
    "### Modified gram schmidt_qr provide better elementwise orthogonality. Lose of orthogonality increase at every step at gram schmidt qr,  but at modified gram schmidt qr it is improved, because we do less orthogonalization operations at every step(now we do it only one time) and thus dont accumulate erroe"
   ]
  },
  {
   "cell_type": "code",
   "execution_count": null,
   "metadata": {},
   "outputs": [],
   "source": []
  },
  {
   "cell_type": "code",
   "execution_count": null,
   "metadata": {},
   "outputs": [],
   "source": []
  },
  {
   "cell_type": "markdown",
   "metadata": {},
   "source": [
    "### 2. Updating QR decompositions (12 pts)\n",
    "\n",
    "Suppose we are dealing with overdetermined system:\n",
    "\n",
    "$$ Ax = y, \\;\\; A \\in \\mathbb{R}^{m \\times n}, \\;\\;  m \\geq n. $$\n",
    "\n",
    "If you were attentive during the course, you should be aware of \n",
    "the canonical way to solve this system. \n",
    "\n",
    "- No, implementing **Householder $QR$** will not be your task :)\n",
    "\n",
    "- We assume that $QR$ decomposition of $A$ **is given**:\n",
    "\n",
    "$$ QR = A = \\begin{bmatrix}a_1 & a_2 & \\ldots & a_n \\end{bmatrix}, \\;\\; a_i \\in \\mathbb{R}^m,$$\n",
    "\n",
    "where $Q \\in \\mathbb{R}^{m \\times m}$ is unitary matrix and $R \\in \\mathbb{R}^{m \\times n}$ is upper triangular.\n",
    "\n",
    "- Let $k$ be an arbitrary column index, $1 \\leq k \\leq n$, and $z \\in \\mathbb{R}^{m}$ be an arbitrary vector.\n",
    "\n",
    "We are interested in matrices:\n",
    "\n",
    "$$ \\tilde{A} = \\begin{bmatrix}a_1 & \\ldots & a_{k-1} & a_{k+1} & \\ldots a_n \\end{bmatrix} \\in \\mathbb{R}^{m \\times (n-1)},$$\n",
    "\n",
    "and:\n",
    "\n",
    "$$ \\hat{A} = \\begin{bmatrix}a_1 & \\ldots & a_{k} & z & a_{k+1} & \\ldots a_n \\end{bmatrix} \\in \\mathbb{R}^{m \\times (n+1)},$$\n",
    "\n",
    "which are obtained by deleting / inserting one column from / to the matrix $A$.\n",
    "\n",
    "For example, if $A$ comes from a least-squares problem, such matrices appear if one wants to examine the significance of the $k^{th}$ parameter in the underlying model (e.g. think in terms of linear regression).\n",
    "\n",
    "- We want to compute decompostions of these updated matrices:\n",
    "\n",
    "$$ \\tilde{A} = \\tilde{Q}\\tilde{R}, \\;\\; \\hat{A} = \\hat{Q}\\hat{R}. $$\n",
    "\n",
    "Performing full orthogonalization process will be redundant. Instead, the known $QR$ factors of $A$ should be **updated** in a proper way.\n",
    "\n",
    "- Different methods for performing $QR$ decomposition were studied during the course. We expect the factors of updated matrices can be recovered with a small number of selective updates, hence the **Givens rotations** seem to be the most appropriate.\n",
    "\n",
    "- Recall the Givens rotation matrix :\n",
    "\n",
    "$$G_{ij}(\\theta) = \\begin{bmatrix} \n",
    "1      & \\ldots & 0      & \\ldots & 0      & \\ldots & 0      \\\\\n",
    "\\vdots & \\ddots & \\vdots &        & \\vdots &        & \\vdots \\\\\n",
    "0      & \\ldots & c      & \\ldots & s      & \\ldots & 0      \\\\\n",
    "\\vdots &        & \\vdots & \\ddots & \\vdots &        & \\vdots \\\\\n",
    "0      & \\ldots & -s     & \\ldots & c      & \\ldots & 0      \\\\\n",
    "\\vdots &        & \\vdots &        & \\vdots & \\ddots & \\vdots \\\\\n",
    "0      & \\ldots & 0      & \\ldots & 0      & \\ldots & 1      \n",
    "\\end{bmatrix}  \\;\\; \\in \\mathbb{R}^{m \\times m}, \\;\\; c = \\cos \\theta, \\;\\; s = \\sin \\theta,$$ \n",
    "\n",
    "which differs from the identity $\\mathrm{I}^{m \\times m}$ by a $2 \\times 2$ sub-matrix:\n",
    "\n",
    "$$\n",
    "{G}(\\theta) = \\begin{bmatrix} c & s \\\\ -s & c \\end{bmatrix} \\in \\mathbb{R}^{2 \\times 2},\n",
    "$$\n",
    "placed on the rows and columns with indices $i$ and $j$. \n",
    "\n",
    "1. (1 pts)\n",
    "Matrix ${G}$ has clear geometric interpretation in 2 dimensions. Let  $a = \\begin{pmatrix} a_1 \\\\ a_2 \\end{pmatrix} \\in \\mathbb{R}^2$ be an arbitrary non-zero vector. According to the template provided below, implement the function to construct matrix $G$, such that:\n",
    "\n",
    "$$ {G}^T \\begin{pmatrix} a_1 \\\\ a_2 \\end{pmatrix} = \\begin{pmatrix} \\alpha \\\\ 0 \\end{pmatrix}.$$\n",
    "\n",
    "What are geometrical meanings of $\\alpha$ and $\\theta$? \n"
   ]
  },
  {
   "cell_type": "code",
   "execution_count": 42,
   "metadata": {},
   "outputs": [
    {
     "data": {
      "text/plain": [
       "array([ 9.67484754e-01, -1.05171695e-17])"
      ]
     },
     "execution_count": 42,
     "metadata": {},
     "output_type": "execute_result"
    }
   ],
   "source": [
    "def givens(a):\n",
    "    '''\n",
    "    Input: \n",
    "        a: np.array of size (2)\n",
    "    Output: \n",
    "        G: np.array of size (2, 2)\n",
    "            Rotation matrix, G^T eliminates the second component of a\n",
    "    '''\n",
    "    x = np.sqrt(a[0]**2+a[1]**2)\n",
    "    c = a[0]/x\n",
    "    s = -a[1]/x\n",
    "    return np.array([[c,s],[-s,c]])\n",
    "# Check yourself \n",
    "a = np.random.rand(2)\n",
    "givens(a).T.dot(a) "
   ]
  },
  {
   "cell_type": "markdown",
   "metadata": {},
   "source": [
    "### $\\alpha$  is length of vector $\\begin{pmatrix} a_1 \\\\ a_2 \\end{pmatrix}$ : $\\alpha = \\sqrt{a_1^2+a_2^2}$\n",
    "### $\\theta$ is angle of rotation such that $c = cos(\\theta), s = sin(\\theta)$"
   ]
  },
  {
   "cell_type": "markdown",
   "metadata": {},
   "source": [
    "- Similarly, matrix $G_{ij}$ can be constructed in order to eliminate the $j^{th}$ component of an arbitrary vector of size $m$. This leads to the well-known **Givens $QR$ algorithm** (see lecture notes!).\n",
    "\n",
    "- Givens rotations typically appear in matrix form:\n",
    "\n",
    "$$ G_{ij}^T X, \\;\\; X^{'}G_{ij},$$\n",
    "\n",
    "where $X$ and $X^{'}$ are some matrices with compatible sizes, e.g. intermediate factors in the **Givens $QR$ algorithm**. \n",
    "\n",
    "How to perform these multiplications efficiently? \n",
    "Obviously, $G_{ij}$ does not need to be stored in explicit form. It affects only two rows / columns, hence only appropriate submatrices should be modified.\n",
    "\n",
    "2. (5 pts) Your second task is to propose an efficient procedure for computing $\\tilde{Q}, \\tilde{R}$ factors of $\\tilde{A}$ by a proper update of $Q, R$ factors of $A$. \n",
    "\n",
    "Hint: consider the following block partition of $R$ (assuming $k^{th}$ column deleted):\n",
    "$$ R = \n",
    "\\begin{bmatrix} \n",
    "R_{11} & v & R_{13} \\\\\n",
    "0 & r_{kk} & \\omega^T \\\\\n",
    "0 & 0 & R^{33}\n",
    "\\end{bmatrix},\n",
    "$$\n",
    "and note, that:\n",
    "$$Q^T\\tilde{A} = \n",
    "\\begin{bmatrix}\n",
    "R_{11} & R_{13} \\\\\n",
    "0 & \\omega^T \\\\\n",
    "0 & R_{33}\n",
    "\\end{bmatrix} = H.$$\n",
    "\n",
    "- (2 pts) What structure has matrix $H$ and how does it help in understanding the proper way to compute updated QR decomposition?\n",
    "\n",
    "- (3 pts) Implement the function according to the template provided below.\n",
    "Use Givens matrices $G_{ij}$ with $j = i+1$ for the convinience.\n",
    "\n",
    "- Only one loop over non-zero subdiagonal elements of $H$ is allowed. You are supposed to perform computations in a proper vectorized form. For example, the *in-place* multiplication $G_{ij}^T X$ with a random matrix $X \\in \\mathbb{R}^{m \\times n}$ can be implemented as follows: ```X[[i,j],:] = G.T.dot(X[[i,j],:])```. \n",
    "\n",
    "- Do not modify elements which are known to be zero.\n"
   ]
  },
  {
   "cell_type": "code",
   "execution_count": 43,
   "metadata": {},
   "outputs": [
    {
     "name": "stdout",
     "output_type": "stream",
     "text": [
      "4.979106443895821e-14\n"
     ]
    }
   ],
   "source": [
    "def delete_column_QR(A, k):\n",
    "    '''\n",
    "    Input: \n",
    "        A: np.array of size (m, n) \n",
    "            \n",
    "        k: positive integer\n",
    "            Index of deleted column, 0 \\leq k \\leq n - 1\n",
    "        \n",
    "    Output: \n",
    "        Q: np.array of size (m, m)\n",
    "        \n",
    "        R: np.array of size (m, n - 1)\n",
    "\n",
    "    '''\n",
    "    Q, R = np.linalg.qr(A, mode='complete') \n",
    "    R = np.delete(R, k, axis = 1)\n",
    "\n",
    "    for i in range(n-k-1):\n",
    "        giv = givens(R[i:i+2,i])\n",
    "        R[[i,i+1],:] = giv.T@R[[i,i+1],:]\n",
    "        Q[:, [i,i+1]] = Q[:,[i,i+1]]@giv\n",
    "    return Q, R\n",
    "\n",
    "\n",
    "# Check yourself\n",
    "m, n = (200, 100)\n",
    "A = np.random.rand(m, n)\n",
    "k = np.random.randint(0, n)\n",
    "A_tilde = np.delete(A, k, axis=1)\n",
    "Q_tilde, R_tilde = delete_column_QR(A, k)\n",
    "print(np.linalg.norm(A_tilde - Q_tilde.dot(R_tilde)))"
   ]
  },
  {
   "cell_type": "markdown",
   "metadata": {},
   "source": [
    "3. (3 pts) When a column is inserted, the factors $\\hat{Q}, \\hat{R}$ of $\\hat{A}$ again can be computed efficiently by a proper update of $Q, R$ factors of $A$.\n",
    "\n",
    "\n",
    "- Proceed similarly to the previous task. Implement the function according to the template provided below. \n",
    "\n",
    "- Choose optimal order of elimination to minimize the number of rotations."
   ]
  },
  {
   "cell_type": "code",
   "execution_count": 44,
   "metadata": {},
   "outputs": [
    {
     "name": "stdout",
     "output_type": "stream",
     "text": [
      "4.760423708088214e-14\n"
     ]
    }
   ],
   "source": [
    "def insert_column_QR(A, k, z):\n",
    "    '''\n",
    "    Input: \n",
    "        A: np.array of size (m, n) \n",
    "            \n",
    "        k: positive integer\n",
    "            Index of inserted column, 0 \\leq k leq n - 1\n",
    "            \n",
    "        z: np.array of size (m)\n",
    "            Inserted column\n",
    "        \n",
    "    Output: \n",
    "        Q: np.array of size (m, m)\n",
    "        \n",
    "        R: np.array of size (m, n + 1)\n",
    "    '''\n",
    "    Q, R = np.linalg.qr(A, mode='complete')\n",
    "    R = np.insert(R, k, Q.T@z, axis=1)\n",
    "    m = R.shape[0]\n",
    "    \n",
    "    for i in range(m-1,k, -1):\n",
    "        giv = givens(R[[i-1,i],k])\n",
    "        R[[i-1,i],:] = giv.T@R[[i-1,i],:]\n",
    "        Q[:, [i-1,i]] = Q[:, [i-1,i]]@giv\n",
    "    return Q, R\n",
    "\n",
    "\n",
    "# Check yourself\n",
    "m, n = (200, 100)\n",
    "A = np.random.rand(m, n)\n",
    "k = np.random.randint(0, n)\n",
    "z = np.random.rand(m)\n",
    "A_hat = np.insert(A, k, z, axis=1)\n",
    "Q_hat, R_hat = insert_column_QR(A, k, z)\n",
    "print(np.linalg.norm(A_hat - Q_hat.dot(R_hat)))"
   ]
  },
  {
   "cell_type": "markdown",
   "metadata": {},
   "source": [
    "4. (3 pts) In the context of least-squares problems, appending rows to a matrix is just as important as inserting columns (e.g. new samples in linear regression).\n",
    "\n",
    "Consider matrix:\n",
    "\n",
    "$$ \\overline{A} = \\begin{bmatrix} \\omega^T \\\\ A \\end{bmatrix} \\in \\mathbb{R}^{(m+1) \\times n},$$\n",
    "\n",
    "which is obtained by appending a row $\\omega^T \\in \\mathbb{R}^{n}$ to the matrix $A$.\n",
    "\n",
    "Similarly to the previous tasks, you need to compute $\\overline{Q}, \\overline{R}$ factors of $\\overline{A}$ by a proper update of $Q,R$ factors of $A$.\n",
    "\n",
    "- Implement the function according to the template provided below. Your code is still expected to be efficient!"
   ]
  },
  {
   "cell_type": "code",
   "execution_count": 45,
   "metadata": {},
   "outputs": [
    {
     "name": "stdout",
     "output_type": "stream",
     "text": [
      "5.392711818923361e-14\n"
     ]
    }
   ],
   "source": [
    "def insert_row_QR(A, w):\n",
    "    '''\n",
    "    Input: \n",
    "        A: np.array of size (m, n)\n",
    "\n",
    "        w: np.array of size (n)\n",
    "            Inserted row\n",
    "        \n",
    "    Output:\n",
    "        Q: np.array of size (m + 1, m + 1)\n",
    "        \n",
    "        R: np.array of size (m + 1, n)\n",
    "    '''\n",
    "    Q, R = np.linalg.qr(A, mode='complete') \n",
    "    R = np.insert(R, 0, w, axis=0)\n",
    "    Q = np.insert(Q, 0, np.array([0]*m), axis=1)\n",
    "    Q = np.insert(Q, 0, np.array([0]*(m+1)), axis=0)\n",
    "    Q[0,0] = 1\n",
    "   \n",
    "    for i in range(0,n-1):\n",
    "        giv = givens(R[i:i+2,i])\n",
    "        R[[i,i+1],:] = giv.T@R[[i,i+1],:]\n",
    "        Q[:, [i,i+1]] = Q[:,[i,i+1]]@giv\n",
    "    return Q, R\n",
    "\n",
    "# Check yourself\n",
    "m, n = (200, 100)\n",
    "A = np.random.rand(m, n)\n",
    "w = np.random.rand(n)\n",
    "A_overline = np.insert(A, 0, w, axis=0)\n",
    "Q_overline, R_overline = insert_row_QR(A, w)\n",
    "print(np.linalg.norm(A_overline - Q_overline.dot(R_overline)))"
   ]
  },
  {
   "cell_type": "markdown",
   "metadata": {},
   "source": [
    "## Problem 3 (Word2Vec as Matrix Factorization) 45 pts\n",
    "\n",
    "In this assignment you are supposed to apply SVD to training your own [word embedding model](https://en.wikipedia.org/wiki/Word_embedding) which maps English words to vectors of real numbers.\n",
    "\n",
    "Skip-Gram Negative Sampling (SGNS) word embedding model, commonly known as **word2vec** ([Mikolov et al., 2013](http://papers.nips.cc/paper/5021-distributed-representations-of-words-and-phrases-and-their-compositionality.pdf)), is usually optimized by stochastic gradient descent. However, the optimization of SGNS objective can be viewed as implicit matrix factorization objective as was shown in ([Levy and Goldberg, 2015](http://papers.nips.cc/paper/5477-neural-word-embedding-as-implicit-matrix-factorization.pdf))."
   ]
  },
  {
   "cell_type": "markdown",
   "metadata": {},
   "source": [
    "###### 1. Notation\n",
    "Assume we have a text corpus given as a sequence of words $\\{w_1,w_2,\\dots,w_n\\}$ where $n$ may be larger than $10^{12}$ and $w_i \\in \\mathcal{V}$ belongs to a vocabulary of words $\\mathcal{V}$. A word $c \\in \\mathcal{V}$ is called *a context* of word $w_i$ if they are found together in the text. More formally, given some measure $L$ of closeness between two words (typical choice is $L=2$), a word $c \\in \\mathcal{V}$ is called a context if $c \\in \\{w_{i-L}, \\dots, w_{i-1}, w_{i+1}, \\dots, w_{i+L} \\}$ Let $\\mathbf{w},\\mathbf{c}\\in\\mathbb{R}^d$ be the *word embeddings* of word $w$ and context $c$, respectively. Assume they are specified by the mapping  $\\Phi:\\mathcal{V}\\rightarrow\\mathbb{R}^d$, so $\\mathbf{w}=\\Phi(w)$. The ultimate goal of SGNS word embedding model is to fit a good mapping $\\Phi$.\n",
    "\n",
    "Let $\\mathcal{D}$ be a multiset of all word-contexts pairs observed in the corpus. In the SGNS model, the probability that word-context pair $(w,c)$ is observed in the corpus is modeled as the following distribution:\n",
    "\n",
    "$$\n",
    "P(\\#(w,c)\\neq 0|w,c) = \\sigma(\\mathbf{w}^\\top \\mathbf{c}) = \\frac{1}{1 + \\exp(-\\mathbf{w}^\\top \\mathbf{c})},\n",
    "$$\n",
    "\n",
    "where $\\#(w,c)$ is the number of times the pair $(w,c)$ appears in $\\mathcal{D}$ and $\\mathbf{w}^\\top\\mathbf{c}$ is the scalar product of vectors $\\mathbf{w}$ and $\\mathbf{c}$. Two important quantities which we will also use further are the number of times the word $w$ and the context $c$ appear in $\\mathcal{D}$, which can be computed as\n",
    "\n",
    "$$\n",
    "\\#(w) = \\sum_{c\\in\\mathcal{V}} \\#(w,c), \\quad \\#(c) = \\sum_{w\\in\\mathcal{V}} \\#(w,c).\n",
    "$$\n"
   ]
  },
  {
   "cell_type": "markdown",
   "metadata": {},
   "source": [
    "###### 2. Optimization objective"
   ]
  },
  {
   "cell_type": "markdown",
   "metadata": {},
   "source": [
    "Vanilla word embedding models are trained by maximizing log-likelihood of observed word-context pairs, namely\n",
    "\n",
    "$$\n",
    "\\mathcal{L} = \\sum_{w \\in \\mathcal{V}} \\sum_{c \\in \\mathcal{V}} \\#(w,c) \\log \\sigma(\\mathbf{w}^\\top\\mathbf{c}) \\rightarrow \\max_{\\mathbf{w},\\mathbf{c} \\in \\mathbb{R}^d}.\n",
    "$$"
   ]
  },
  {
   "cell_type": "markdown",
   "metadata": {},
   "source": [
    "Skip-Gram Negative Sampling approach modifies the objective by additionally minimizing the log-likelihood of random word-context pairs, so called *negative samples*. This idea incorporates some useful linguistic information that some number ($k$, usually $k=5$) of word-context pairs *are not* found together in the corpus which usually results in word embeddings of higher quality. The resulting optimization problem is\n",
    "\n",
    "$$\n",
    "\\mathcal{L} = \\sum_{w \\in \\mathcal{V}} \\sum_{c \\in \\mathcal{V}} \\left( \\#(w,c) \\log \\sigma(\\mathbf{w}^\\top\\mathbf{c}) + k \\cdot \\mathbb{E}_{c'\\sim P_\\mathcal{D}} \\log \\sigma (-\\mathbf{w}^\\top\\mathbf{c}) \\right) \\rightarrow \\max_{\\mathbf{w},\\mathbf{c} \\in \\mathbb{R}^d},\n",
    "$$\n",
    "\n",
    "where $P_\\mathcal{D}(c)=\\frac{\\#(c)}{|\\mathcal{D}|}$ is a probability distribution over word contexts from which negative samples are drawn."
   ]
  },
  {
   "cell_type": "markdown",
   "metadata": {},
   "source": [
    "[Levy and Goldberg, 2015](http://papers.nips.cc/paper/5477-neural-word-embedding-as-implicit-matrix-factorization.pdf) showed that this objective can be equivalently written as\n",
    "\n",
    "$$\n",
    "\\mathcal{L} = \\sum_{w \\in \\mathcal{V}} \\sum_{c \\in \\mathcal{V}} f(w,c) = \\sum_{w \\in \\mathcal{V}} \\sum_{c \\in \\mathcal{V}} \\left( \\#(w,c) \\log \\sigma(\\mathbf{w}^\\top\\mathbf{c}) + \\frac{k\\cdot\\#(w)\\cdot\\#(c)}{|\\mathcal{D}|} \\log \\sigma (-\\mathbf{w}^\\top\\mathbf{c}) \\right) \\rightarrow \\max_{\\mathbf{w},\\mathbf{c} \\in \\mathbb{R}^d},\n",
    "$$\n",
    "\n",
    "A crucial observation is that this loss function depends only on the scalar product $\\mathbf{w}^\\top\\mathbf{c}$ but not on embedding $\\mathbf{w}$ and $\\mathbf{c}$ separately."
   ]
  },
  {
   "cell_type": "markdown",
   "metadata": {},
   "source": [
    "###### 3. Matrix factorization problem statement"
   ]
  },
  {
   "cell_type": "markdown",
   "metadata": {},
   "source": [
    "Let $|\\mathcal{V}|=m$, $W \\in \\mathbb{R}^{m\\times d}$ and $C \\in \\mathbb{R}^{m\\times d}$ be matrices, where each row $\\mathbf{w}\\in\\mathbb{R}^d$ of matrix $W$ is the word embedding of the corresponding word $w$ and each row $\\mathbf{c}\\in\\mathbb{R}^d$ of matrix $C$ is the context embedding of the corresponding context $c$. SGNS embeds both words and their contexts into a low-dimensional space $\\mathbb{R}^d$, resulting in the word and context matrices $W$ and $C$. The rows of matrix $W$ are typically used in NLP tasks (such as computing word similarities) while $C$ is ignored. It is nonetheless instructive to consider the product $W^\\top C = M$. Viewed this way, SGNS can be described as factorizing an implicit matrix $M$ of dimensions $m \\times m$ into two smaller matrices.\n",
    "\n",
    "Which matrix is being factorized? A matrix entry $M_{wc}$ corresponds to the dot product $\\mathbf{w}^\\top\\mathbf{c}$ . Thus, SGNS is factorizing a matrix in which each row corresponds to a word $w \\in \\mathcal{V}$ , each column corresponds to a context $c \\in \\mathcal{V}$, and each cell contains a quantity $f(w,c)$ reflecting the strength of association between that particular word-context pair. Such word-context association matrices are very common in the NLP and word-similarity literature. That said, the objective of SGNS does not explicitly state what this association metric is. What can we say about the association function $f(w,c)$? In other words, which matrix is SGNS factorizing? Below you will find the answers."
   ]
  },
  {
   "cell_type": "markdown",
   "metadata": {},
   "source": [
    "### Task 1 (theoretical) 9 pts"
   ]
  },
  {
   "cell_type": "markdown",
   "metadata": {},
   "source": [
    "Solve SGNS optimization problem with respect to the $\\mathbf{w}^\\top\\mathbf{c}$ and show that the matrix being factorized is\n",
    "\n",
    "$$\n",
    "M_{wc} = \\mathbf{w}^\\top\\mathbf{c} = \\log \\left( \\frac{\\#(w,c) \\cdot |\\mathcal{D}|}{k\\cdot\\#(w)\\cdot\\#(c)} \\right)\n",
    "$$\n",
    "\n",
    "**Hint:** Denote $x=\\mathbf{w}^\\top\\mathbf{c}$, rewrite SGNG optimization problem in terms of $x$ and solve it."
   ]
  },
  {
   "cell_type": "markdown",
   "metadata": {},
   "source": [
    "**Note:** This matrix is called Shifted Pointwise Mutual Information (SPMI) matrix, as its elements can be written as\n",
    "\n",
    "$$\n",
    "\\text{SPMI}(w,c) = M_{wc} = \\mathbf{w}^\\top\\mathbf{c} = \\text{PMI}(w,c) - \\log k\n",
    "$$\n",
    "\n",
    "and $\\text{PMI}(w,c) = \\log \\left( \\frac{\\#(w,c) \\cdot |\\mathcal{D}|}{\\#(w)\\cdot\\#(c)} \\right)$ is the well-known [pointwise mutual information](https://en.wikipedia.org/wiki/Pointwise_mutual_information) of $(w,c)$."
   ]
  },
  {
   "cell_type": "markdown",
   "metadata": {},
   "source": [
    "$ \\mathcal{L} = \\sum_{w \\in \\mathcal{V}} \\sum_{c \\in \\mathcal{V}} \\left( \\#(w,c) \\log (\\frac{1}{1 + \\exp(-x)}) + \\frac{k\\cdot\\#(w)\\cdot\\#(c)}{|\\mathcal{D}|} \\log (\\frac{1}{1 + \\exp(x)}) \\right) = \\sum_{w \\in \\mathcal{V}} \\sum_{c \\in \\mathcal{V}} \\left( \\#(w,c) (- \\log (1 + \\exp(-x)) + \\frac{k\\cdot\\#(w)\\cdot\\#(c)}{|\\mathcal{D}|} (-\\log (1 + \\exp(x)) \\right)$\n",
    "we assume $x = (w,c)$ and take the derivative with respect to $x$:\n",
    "​\n",
    "$$\\frac{d\\mathcal{L}}{dx} = \\#(w,c) \\sigma(-x) - \\frac{k \\#(w) \\#(c) \\sigma(x)}{|D|} = 0$$\n",
    "​\n",
    "This gives us the following:\n",
    "​\n",
    "$$e^{2x} - \\Bigl(-1 + \\frac{\\#(w,c) |D|}{k \\#(w) \\#(c)}\\Bigr)e^{x} - \\frac{\\#(w,c) |D|}{k \\#(w) \\#(c)} = 0$$\n",
    "​\n",
    "This is quadratic equation, which (in terms of $y = e^{x}$) has roots $y_1 = -1$ and\n",
    "​\n",
    "$$y = \\frac{\\#(w,c) |D|}{k \\#(w) \\#(c)}$$\n",
    "​\n",
    "This immediately gives us\n",
    "​\n",
    "$$w^Tc = \\log\\Bigl(\\frac{\\#(w,c) |D|}{\\#(w) \\#(c)}\\Bigr) - \\log(k) = PMI(w,c) - \\log(k)$$"
   ]
  },
  {
   "cell_type": "markdown",
   "metadata": {},
   "source": [
    "### Task 2 (practical) 36 pts"
   ]
  },
  {
   "cell_type": "code",
   "execution_count": 353,
   "metadata": {},
   "outputs": [],
   "source": [
    "import os\n",
    "import numpy as np\n",
    "from sklearn.metrics.pairwise import cosine_similarity\n",
    "from scipy.sparse.linalg import svds"
   ]
  },
  {
   "cell_type": "markdown",
   "metadata": {},
   "source": [
    "1. Download dataset [enwik8](http://mattmahoney.net/dc/enwik8.zip) of compressed Wikipedia articles and preprocess raw data with Perl script **main_.pl**. This script will clean all unnecessary symbols, make all words to lowercase, and produce only sentences with words. If you are Windows user, you can install [linux subsystem in windows](https://www.microsoft.com/en-us/p/ubuntu-1804-lts/9n9tngvndl3q?activetab=pivot:overviewtab) and run all these bash commands from ubuntu console (it was checked on the Windows and it works). Also, you can just download file from this [link](https://nla.skoltech.ru/homeworks/files/enwik8.txt).\n",
    "```\n",
    "wget http://mattmahoney.net/dc/enwik8.zip\n",
    "unzip enwik8.zip\n",
    "mkdir data\n",
    "perl main_.pl enwik8 > data/enwik8.txt\n",
    "```"
   ]
  },
  {
   "cell_type": "code",
   "execution_count": 354,
   "metadata": {},
   "outputs": [],
   "source": [
    "# Load enwik 8\n",
    "\n",
    "import re\n",
    "# Download file fromhttps://nla.skoltech.ru/homeworks/files/enwik8.txt\n",
    "file = open('enwik8.txt', \"r\")\n",
    "doclist = [line for line in file]\n",
    "docstr = ''.join(doclist)\n",
    "sentences = re.split(r'[.!?]', docstr)\n",
    "sentences = [sentence.split() for sentence in sentences if len(sentence) > 1]"
   ]
  },
  {
   "cell_type": "code",
   "execution_count": 355,
   "metadata": {
    "scrolled": true
   },
   "outputs": [
    {
     "name": "stdout",
     "output_type": "stream",
     "text": [
      "['achilles', 'wrath', 'is', 'terrible', 'and', 'he', 'slays', 'many', 'trojan', 'warriors', 'and', 'allies', 'including', 'priam', 's', 'son', 'lycaon', 'whom', 'achilles', 'had', 'previously', 'captured', 'and', 'sold', 'into', 'slavery', 'but', 'who', 'had', 'been', 'returned', 'to', 'troy']\n"
     ]
    }
   ],
   "source": [
    "print (sentences[1249])"
   ]
  },
  {
   "cell_type": "markdown",
   "metadata": {},
   "source": [
    "2. Construct the word vocabulary from the obtained sentences which enumerates words which occur more than $r=200$ times in the corpus."
   ]
  },
  {
   "cell_type": "code",
   "execution_count": 356,
   "metadata": {},
   "outputs": [],
   "source": [
    "import collections\n",
    "def create_vocabulary(sentences, r=200):\n",
    "    vocabulary = {}\n",
    "    draft_vocabulary = collections.defaultdict(int)\n",
    "    # Your code is here\n",
    "    for sentence in sentences:\n",
    "        for word in sentence:\n",
    "            draft_vocabulary[word] += 1\n",
    "    value = 0\n",
    "    for key in draft_vocabulary:\n",
    "        if draft_vocabulary[key] > r:\n",
    "            vocabulary.update({key: value})\n",
    "            value += 1\n",
    "    return vocabulary"
   ]
  },
  {
   "cell_type": "code",
   "execution_count": null,
   "metadata": {},
   "outputs": [],
   "source": []
  },
  {
   "cell_type": "code",
   "execution_count": 357,
   "metadata": {},
   "outputs": [],
   "source": [
    "vocab = create_vocabulary(sentences)"
   ]
  },
  {
   "cell_type": "code",
   "execution_count": 358,
   "metadata": {},
   "outputs": [
    {
     "data": {
      "text/plain": [
       "5758"
      ]
     },
     "execution_count": 358,
     "metadata": {},
     "output_type": "execute_result"
    }
   ],
   "source": [
    "len(vocab)"
   ]
  },
  {
   "cell_type": "markdown",
   "metadata": {},
   "source": [
    "3. Scan the text corpus with sliding window of size $5$ and step $1$ (which corresponds to $L$=2) and construct co-occurrence word-context matrix $D$ with elements $D_{wc}=\\#(w,c)$. Please, ignore words which occur less than $r=200$ times, but include them into the sliding window. Please, see the graphical illustration of the procedure described."
   ]
  },
  {
   "cell_type": "markdown",
   "metadata": {},
   "source": [
    "![Sliding window](sliding_window.png)"
   ]
  },
  {
   "cell_type": "code",
   "execution_count": 359,
   "metadata": {},
   "outputs": [],
   "source": [
    "def create_corpus_matrix(sentences, vocabulary):\n",
    "    n = len(vocabulary)\n",
    "    corpus_matrix = np.zeros((n, n))\n",
    "    \n",
    "    for sentense in sentences:\n",
    "        for p in range(len(sentense)):\n",
    "            for i in range(max(0, p - 2), min(p + 3, len(sentense))):\n",
    "                word = sentense[p]\n",
    "                context = sentense[i]\n",
    "                if (word in vocabulary and context in vocabulary) and i != p:\n",
    "                    corpus_matrix[vocabulary[word]][vocabulary[context]] += 1\n",
    "                \n",
    "    return corpus_matrix"
   ]
  },
  {
   "cell_type": "code",
   "execution_count": 360,
   "metadata": {},
   "outputs": [],
   "source": [
    "D = create_corpus_matrix(sentences, vocab)"
   ]
  },
  {
   "cell_type": "markdown",
   "metadata": {},
   "source": [
    "4. To find good word embeddings, [Levy and Goldberg, 2015](http://papers.nips.cc/paper/5477-neural-word-embedding-as-implicit-matrix-factorization.pdf) proposed to find rank-$d$ SVD of Shifted Positive Pointwise Mutual Information (SPPMI) matrix\n",
    "\n",
    "$$ U \\Sigma V^\\top \\approx \\text{SPPMI}, $$\n",
    "\n",
    "where $\\text{SPPMI}(w, c) = \\max\\left(\\text{SPMI}(w, c), 0 \\right)$ and $\\text{SPMI}(w, c)$ is the element of the matrix $\\text{SPPMI}$ at position $(w, c)$.\n",
    "Then use $W=U\\sqrt{\\Sigma}$ as word embedding matrix. Your task is to reproduce their results. Write function constructs $\\text{SPPMI}$ matrix, computes its SVD and produces word-vectors matrix $W$. Pay attention that $\\text{SPPMI}$ matrix is **sparse**!  "
   ]
  },
  {
   "cell_type": "code",
   "execution_count": 364,
   "metadata": {},
   "outputs": [],
   "source": [
    "import numpy as np\n",
    "import scipy\n",
    "\n",
    "def compute_embeddings(D, k, d=200):\n",
    "    n = np.sum(D)\n",
    "    ss_w = D.sum(axis = 0)\n",
    "    ss_c = D.sum(axis = 1)\n",
    "    \n",
    "    u = np.array([[0 if ss_w[w] == 0 or ss_c[c] == 0 or D[w][c] == 0 else max(0,np.log((n * D[w][c])/(ss_w[w]*ss_c[c]*k))) for w in range(D.shape[0])] for c in range(D.shape[1])])\n",
    "                \n",
    "    sppmi = scipy.sparse.csc_matrix(u)\n",
    "    \n",
    "    u, sigma, v = scipy.sparse.linalg.svds(sppmi, d)\n",
    "    embedding_matrix = np.matmul(u, np.diag(np.sqrt(sigma)))   \n",
    "    \n",
    "    return embedding_matrix"
   ]
  },
  {
   "cell_type": "code",
   "execution_count": 365,
   "metadata": {},
   "outputs": [],
   "source": [
    "k = 5 # negative sampling parameter\n",
    "W = compute_embeddings(D, k)"
   ]
  },
  {
   "cell_type": "code",
   "execution_count": 366,
   "metadata": {},
   "outputs": [
    {
     "data": {
      "text/plain": [
       "(5758, 200)"
      ]
     },
     "execution_count": 366,
     "metadata": {},
     "output_type": "execute_result"
    }
   ],
   "source": [
    "W.shape"
   ]
  },
  {
   "cell_type": "markdown",
   "metadata": {},
   "source": [
    "5. Write class **WordVectors** using provided template."
   ]
  },
  {
   "cell_type": "code",
   "execution_count": 386,
   "metadata": {},
   "outputs": [],
   "source": [
    "class WordVectors:\n",
    "    \n",
    "    def __init__(self, vocabulary, embedding_matrix):\n",
    "        self.vocab = vocabulary\n",
    "        self.W = embedding_matrix\n",
    "        self.inv_vocab = {v: k for k, v in self.vocab.items()}\n",
    "        \n",
    "    def word_vector(self, word):\n",
    "        if word in self.vocab:\n",
    "            word_vector = self.W[vocab[word]]\n",
    "        else:\n",
    "            raise ValueError('There is no such word in vocab')\n",
    "\n",
    "        return word_vector\n",
    "    \n",
    "    def nearest_words(self, word, top_n=10):\n",
    "        v = self.word_vector(word)\n",
    "        raw_result= W@v/np.linalg.norm(v)/np.linalg.norm(W, axis=1)\n",
    "        arguments = np.argsort(raw_result)\n",
    "        neighbors = [(self.inv_vocab[i],raw_result[i]) for i in arguments[-11:-1]]\n",
    "        return neighbors[::-1]"
   ]
  },
  {
   "cell_type": "code",
   "execution_count": 387,
   "metadata": {},
   "outputs": [],
   "source": [
    "model = WordVectors(vocab, W)"
   ]
  },
  {
   "cell_type": "markdown",
   "metadata": {},
   "source": [
    "6. Calculate top 10 nearest neighbours with the corresponding cosine similarities for the words {matrix, multiplication, algorithm} and print them below"
   ]
  },
  {
   "cell_type": "code",
   "execution_count": 388,
   "metadata": {},
   "outputs": [
    {
     "data": {
      "text/plain": [
       "[('communism', 0.7848589121153872),\n",
       " ('anarcho', 0.783242473461076),\n",
       " ('capitalism', 0.7808426453313528),\n",
       " ('socialism', 0.7438494779661052),\n",
       " ('liberalism', 0.7098890553594412),\n",
       " ('criticisms', 0.7079910605546905),\n",
       " ('capitalist', 0.6698667056521742),\n",
       " ('fascism', 0.5474056803961747),\n",
       " ('anarchist', 0.5184369607228633),\n",
       " ('nationalism', 0.511902518841822)]"
      ]
     },
     "execution_count": 388,
     "metadata": {},
     "output_type": "execute_result"
    }
   ],
   "source": [
    "model.nearest_words(\"anarchism\")"
   ]
  },
  {
   "cell_type": "code",
   "execution_count": 389,
   "metadata": {},
   "outputs": [
    {
     "data": {
      "text/plain": [
       "[('ukraine', 0.6540922172595167),\n",
       " ('russia', 0.6148685286643405),\n",
       " ('belarus', 0.5468665605987431),\n",
       " ('poland', 0.5437339705491117),\n",
       " ('yugoslavia', 0.5244773507315705),\n",
       " ('romania', 0.5062120368294338),\n",
       " ('austria', 0.49593649550725105),\n",
       " ('serbia', 0.49190831514590794),\n",
       " ('hungary', 0.4597797223505655),\n",
       " ('finland', 0.41586903441142303)]"
      ]
     },
     "execution_count": 389,
     "metadata": {},
     "output_type": "execute_result"
    }
   ],
   "source": [
    "model.nearest_words(\"ussr\")"
   ]
  },
  {
   "cell_type": "code",
   "execution_count": 390,
   "metadata": {},
   "outputs": [
    {
     "data": {
      "text/plain": [
       "[('hop', 0.8253395849004908),\n",
       " ('hip', 0.8105137935853014),\n",
       " ('funk', 0.7448464342399237),\n",
       " ('rock', 0.7314108756121545),\n",
       " ('punk', 0.7103397120873213),\n",
       " ('music', 0.6878431146198494),\n",
       " ('band', 0.6601902935396652),\n",
       " ('pop', 0.6593059204986254),\n",
       " ('scene', 0.6569535675366406),\n",
       " ('jazz', 0.6260219107813182)]"
      ]
     },
     "execution_count": 390,
     "metadata": {},
     "output_type": "execute_result"
    }
   ],
   "source": [
    "model.nearest_words(\"rap\")"
   ]
  },
  {
   "cell_type": "markdown",
   "metadata": {},
   "source": []
  },
  {
   "cell_type": "code",
   "execution_count": null,
   "metadata": {},
   "outputs": [],
   "source": [
    "# Your solution is here"
   ]
  },
  {
   "cell_type": "markdown",
   "metadata": {},
   "source": [
    "# Problem 4 (eigenvalues)  45 pts\n",
    "\n",
    "### 1. Theoretical tasks (10 pts)\n",
    "\n",
    "* (5 pts) Prove that normal matrix is Hermitian iff its eigenvalues are real. Prove that normal matrix is unitary iff its eigenvalues satisfy $|\\lambda| = 1$. \n",
    "\n",
    "* (5 pts) The following problem illustrates instability of the Jordan form. Find theoretically the eigenvalues of the perturbed Jordan block:\n",
    "\n",
    "$$\n",
    "    J(\\varepsilon) = \n",
    "    \\begin{bmatrix} \n",
    "     \\lambda & 1 & & & 0 \\\\ \n",
    "     & \\lambda & 1 & & \\\\ \n",
    "     &  & \\ddots & \\ddots & \\\\ \n",
    "     & & & \\lambda & 1 \\\\ \n",
    "     \\varepsilon & & & & \\lambda  \\\\ \n",
    "    \\end{bmatrix}_{n\\times n}\n",
    "$$\n",
    "\n",
    "Comment how eigenvalues of $J(0)$ are perturbed for large $n$."
   ]
  },
  {
   "cell_type": "markdown",
   "metadata": {},
   "source": [
    "## 4.1.1\n",
    "- If eigenvalues are real, A is normal matrix. \n",
    "\n",
    "*Proposition.* A matrix A is normal if and only if there exists a diagonal matrix $\\Lambda$ and a unitary matrix U such that $A = U \\Lambda U^*$.\n",
    "\n",
    "$A^* = (U \\Lambda U^*)^* = U (U \\Lambda)^* = U \\Lambda^* U^* = U \\Lambda U^* = A$, as $\\Lambda = \\Lambda^*$ - the diagonal matrix with real eigenvalues of A.\n",
    "\n",
    "If A is a normal Hermitian matrix, consequently eigenvalues of matrix A are real, because it's the property of Hermitian matrices. \n",
    "\n"
   ]
  },
  {
   "cell_type": "markdown",
   "metadata": {},
   "source": [
    "## 4.1.2\n",
    "\n",
    "$Ax = \\lambda x \\\\\n",
    "A^*x = \\lambda^* x \\\\\n",
    " => A^{*}Ax = \\lambda A^{*}x => A^{*}Ax = \\lambda \\lambda^{*}x = |\\lambda|^{2}x \\\\\n",
    "\\text { A is unitary} => A^{*}A = I \\\\\n",
    "Ix = |\\lambda|^{2}x  \\text{ for all x} => |\\lambda| = 1 \\\\\n",
    "\\text{Lets write spectrum decomposition:} \\\\\n",
    "A^{*}A = (UDU^{*})^{*}(UDU^{*}) = UD^{*}U^{*}UDU^{*} = \\text{(U is unitary)} = UD^{*}DU^{*} = (|\\lambda| = 1) = UIU^{*} = I$\n"
   ]
  },
  {
   "cell_type": "markdown",
   "metadata": {},
   "source": [
    "## 4.1.3\n",
    "\n",
    "For Jordan block eigenvalues we have to calculate determinant of:\n",
    "\n",
    "$\n",
    "J(\\varepsilon) - \\lambda_1 I = \n",
    "    \\begin{bmatrix} \n",
    "     \\lambda - \\mu  & 1 & & & 0 \\\\ \n",
    "     & \\lambda - \\mu & 1 & & \\\\ \n",
    "     &  & \\ddots & \\ddots & \\\\ \n",
    "     & & & \\lambda - \\mu & 1 \\\\ \n",
    "     \\varepsilon & & & & \\lambda - \\mu  \\\\ \n",
    "    \\end{bmatrix}_{n\\times n}\n",
    "$\n",
    "\n",
    "This gives:\n",
    "\n",
    "\n",
    "$det(J(\\epsilon) - \\mu I) = (\\lambda - \\mu)^{n} + (-1)^{n+1}\\varepsilon = 0$,\n",
    "\n",
    "$\\mu = \\lambda - \\sqrt[n]{((-1)^n \\varepsilon)}$, where it is n-th root of complex number.\n",
    "\n",
    "Since $J(0)$ is a simple Jordan block, its eigenvalues are $\\lambda$\n",
    "\n"
   ]
  },
  {
   "cell_type": "markdown",
   "metadata": {},
   "source": [
    "### 2. PageRank\n",
    "\n",
    "\n",
    "#### Damping factor importance\n",
    "\n",
    "* (5 pts) Write the function ```pagerank_matrix(G)``` that takes an adjacency matrix $G$ (in both sparse and dense formats) as an input and outputs the corresponding PageRank matrix $A$."
   ]
  },
  {
   "cell_type": "code",
   "execution_count": 164,
   "metadata": {},
   "outputs": [],
   "source": [
    "# INPUT:  G - np.ndarray or sparse matrix\n",
    "# OUTPUT: A - np.ndarray (of size G.shape) or sparse matrix\n",
    "def pagerank_matrix(G):\n",
    "    v = np.sum(G, axis = 0)\n",
    "    v =np.array([i if i!=0 else 1 for i in v])\n",
    "    A = G/v\n",
    "    return A"
   ]
  },
  {
   "cell_type": "code",
   "execution_count": 46,
   "metadata": {},
   "outputs": [],
   "source": [
    "# OUTPUT: A - np.ndarray (of size G.shape) or sparse matrix\n",
    "import scipy.sparse as sparse\n",
    "def pagerank_matrix(G):\n",
    "    if (sparse.issparse(G)):\n",
    "        v = np.sum(G, axis = 1)\n",
    "        v = np.where(v==0,1,v)\n",
    "        D = sparse.diags(np.squeeze(np.asarray(1/v)))\n",
    "        return G.T @ D\n",
    "    else:\n",
    "        v = np.sum(G, axis = 0)\n",
    "        v =[v if v!=0 else 1 for v in v]\n",
    "        A = G/v\n",
    "        return A\n",
    "        "
   ]
  },
  {
   "cell_type": "markdown",
   "metadata": {},
   "source": [
    "* (3 pts) Find PageRank matrix $A$ that corresponds to the following graph: \n",
    "![graph](graph.png)\n",
    "What is its largest eigenvalue? What multiplicity does it have?\n",
    "\n",
    "\n",
    "* (5 pts) Implement the power method for a given matrix $A$, an initial guess $x_0$ and a number of iterations ```num_iter```. It should be organized as a function ```power_method(A, x0, num_iter)``` that outputs approximation to eigenvector $x$, eigenvalue $\\lambda$ and history of residuals $\\{\\|Ax_k - \\lambda_k x_k\\|_2\\}$. Make sure that the method converges to the correct solution on a matrix $\\begin{bmatrix} 2 & -1 \\\\ -1 & 2 \\end{bmatrix}$ which is known to have the largest eigenvalue equal to $3$."
   ]
  },
  {
   "cell_type": "code",
   "execution_count": 47,
   "metadata": {},
   "outputs": [
    {
     "data": {
      "text/plain": [
       "array([[0, 0, 1, 0, 0],\n",
       "       [1, 0, 1, 0, 0],\n",
       "       [0, 1, 0, 0, 0],\n",
       "       [0, 0, 0, 0, 1],\n",
       "       [0, 0, 0, 1, 0]])"
      ]
     },
     "execution_count": 47,
     "metadata": {},
     "output_type": "execute_result"
    }
   ],
   "source": [
    "G = np.array([[0,1,0,0,0],[0,0,1,0,0],[1,1,0,0,0],[0,0,0,0,1],[0,0,0,1,0]]).T\n",
    "G"
   ]
  },
  {
   "cell_type": "code",
   "execution_count": 48,
   "metadata": {},
   "outputs": [],
   "source": [
    "A = pagerank_matrix(G)"
   ]
  },
  {
   "cell_type": "code",
   "execution_count": 49,
   "metadata": {},
   "outputs": [
    {
     "data": {
      "text/plain": [
       "array([[0. , 0. , 0.5, 0. , 0. ],\n",
       "       [1. , 0. , 0.5, 0. , 0. ],\n",
       "       [0. , 1. , 0. , 0. , 0. ],\n",
       "       [0. , 0. , 0. , 0. , 1. ],\n",
       "       [0. , 0. , 0. , 1. , 0. ]])"
      ]
     },
     "execution_count": 49,
     "metadata": {},
     "output_type": "execute_result"
    }
   ],
   "source": [
    "A"
   ]
  },
  {
   "cell_type": "code",
   "execution_count": 50,
   "metadata": {},
   "outputs": [],
   "source": [
    "# INPUT:  A - np.ndarray (2D), x0 - np.ndarray (1D), num_iter - integer (positive) \n",
    "# OUTPUT: x - np.ndarray (of size x0), l - float, res - np.ndarray (of size num_iter + 1 [include initial guess])\n",
    "def power_method(A, x0, num_iter): # 5 pts\n",
    "    x_old = x0\n",
    "    res = []\n",
    "    for i in range(num_iter):\n",
    "        x_new = A@x_old\n",
    "        x_old = x_new/np.linalg.norm(x_new, ord = 2)\n",
    "        lambd_k = x_old@(A@x_old)\n",
    "        _res = np.linalg.norm(A@x_old-lambd_k*x_old, ord = 2)\n",
    "        res.append(_res)\n",
    "    res = np.array(res) \n",
    "    lambd = ((A@x_old).T)@x_old\n",
    "    return x_old, lambd, res"
   ]
  },
  {
   "cell_type": "code",
   "execution_count": 51,
   "metadata": {},
   "outputs": [
    {
     "name": "stdout",
     "output_type": "stream",
     "text": [
      "3.0\n"
     ]
    }
   ],
   "source": [
    "T = np.array([[2,-1], [-1,2]])\n",
    "_,l,_ = power_method(T, (-5,-2), 100)\n",
    "print(l)"
   ]
  },
  {
   "cell_type": "code",
   "execution_count": null,
   "metadata": {},
   "outputs": [],
   "source": []
  },
  {
   "cell_type": "code",
   "execution_count": 52,
   "metadata": {},
   "outputs": [],
   "source": [
    "x,l,res = power_method(A, np.random.random_sample(5), 100)"
   ]
  },
  {
   "cell_type": "code",
   "execution_count": 53,
   "metadata": {},
   "outputs": [
    {
     "data": {
      "text/plain": [
       "array([0.65842354, 0.66445276, 0.65650832, 0.65943607, 0.66005993,\n",
       "       0.65768262, 0.65945429, 0.65874426, 0.6585422 , 0.65908115,\n",
       "       0.65862487, 0.65880374, 0.65885137, 0.65871317, 0.65882641,\n",
       "       0.65878177, 0.65876969, 0.65880402, 0.65877566, 0.65878682,\n",
       "       0.65878983, 0.65878124, 0.65878832, 0.65878553, 0.65878478,\n",
       "       0.65878693, 0.65878516, 0.65878585, 0.65878604, 0.6587855 ,\n",
       "       0.65878595, 0.65878577, 0.65878573, 0.65878586, 0.65878575,\n",
       "       0.65878579, 0.65878581, 0.65878577, 0.6587858 , 0.65878579,\n",
       "       0.65878579, 0.65878579, 0.65878579, 0.65878579, 0.65878579,\n",
       "       0.65878579, 0.65878579, 0.65878579, 0.65878579, 0.65878579,\n",
       "       0.65878579, 0.65878579, 0.65878579, 0.65878579, 0.65878579,\n",
       "       0.65878579, 0.65878579, 0.65878579, 0.65878579, 0.65878579,\n",
       "       0.65878579, 0.65878579, 0.65878579, 0.65878579, 0.65878579,\n",
       "       0.65878579, 0.65878579, 0.65878579, 0.65878579, 0.65878579,\n",
       "       0.65878579, 0.65878579, 0.65878579, 0.65878579, 0.65878579,\n",
       "       0.65878579, 0.65878579, 0.65878579, 0.65878579, 0.65878579,\n",
       "       0.65878579, 0.65878579, 0.65878579, 0.65878579, 0.65878579,\n",
       "       0.65878579, 0.65878579, 0.65878579, 0.65878579, 0.65878579,\n",
       "       0.65878579, 0.65878579, 0.65878579, 0.65878579, 0.65878579,\n",
       "       0.65878579, 0.65878579, 0.65878579, 0.65878579, 0.65878579])"
      ]
     },
     "execution_count": 53,
     "metadata": {},
     "output_type": "execute_result"
    }
   ],
   "source": [
    "res"
   ]
  },
  {
   "cell_type": "markdown",
   "metadata": {},
   "source": [
    "* (2 pts) Run the power method for the graph presented above and plot residuals $\\|Ax_k - \\lambda_k x_k\\|_2$ as a function of $k$ for ```num_iter=100``` and random initial guess ```x0```.  Explain the absence of convergence. \n",
    "\n",
    "\n",
    "* (2 pts) Consider the same graph, but with a directed edge that goes from the node 3 to the node 4 being removed. Plot residuals as in the previous task and discuss the convergence. Now, run the power method with ```num_iter=100``` for 10 different initial guesses and print/plot the resulting approximated eigenvectors. Why do they depend on the initial guess?\n"
   ]
  },
  {
   "cell_type": "code",
   "execution_count": 54,
   "metadata": {},
   "outputs": [],
   "source": [
    "import matplotlib.pyplot as plt"
   ]
  },
  {
   "cell_type": "code",
   "execution_count": 55,
   "metadata": {},
   "outputs": [
    {
     "data": {
      "text/plain": [
       "[<matplotlib.lines.Line2D at 0x21032657860>]"
      ]
     },
     "execution_count": 55,
     "metadata": {},
     "output_type": "execute_result"
    },
    {
     "data": {
      "image/png": "[encoded data removed]",
      "text/plain": [
       "<Figure size 720x360 with 1 Axes>"
      ]
     },
     "metadata": {
      "needs_background": "light"
     },
     "output_type": "display_data"
    }
   ],
   "source": [
    "plt.figure(figsize=(10,5))\n",
    "plt.plot(res)"
   ]
  },
  {
   "cell_type": "code",
   "execution_count": 56,
   "metadata": {},
   "outputs": [
    {
     "data": {
      "text/plain": [
       "array([ 1. +0.j ,  1. +0.j , -0.5+0.5j, -0.5-0.5j, -1. +0.j ])"
      ]
     },
     "execution_count": 56,
     "metadata": {},
     "output_type": "execute_result"
    }
   ],
   "source": [
    "np.sort(np.linalg.eig(A)[0])[::-1]"
   ]
  },
  {
   "cell_type": "markdown",
   "metadata": {},
   "source": [
    "## Convergence ratio is $q^k$, where $q = \\left|\\frac{\\lambda_{2}}{\\lambda_{1}}\\right| < 1$, for $\\lambda_1>\\lambda_2\\geq\\dots\\geq \\lambda_n$ and $k$ is the number of iteration. But here $\\lambda_{1} = \\lambda_{2}$, q = 1 => there is no convergence\n"
   ]
  },
  {
   "cell_type": "markdown",
   "metadata": {},
   "source": [
    "### Remove one edge"
   ]
  },
  {
   "cell_type": "code",
   "execution_count": 57,
   "metadata": {},
   "outputs": [
    {
     "data": {
      "text/plain": [
       "array([[0, 0, 1, 0, 0],\n",
       "       [1, 0, 1, 0, 0],\n",
       "       [0, 1, 0, 0, 0],\n",
       "       [0, 0, 0, 0, 1],\n",
       "       [0, 0, 0, 1, 1]])"
      ]
     },
     "execution_count": 57,
     "metadata": {},
     "output_type": "execute_result"
    }
   ],
   "source": [
    "G_new = np.array([[0,1,0,0,0],[0,0,1,0,0],[1,1,0,0,0],[0,0,0,0,1],[0,0,0,1,1]]).T\n",
    "G_new"
   ]
  },
  {
   "cell_type": "code",
   "execution_count": 58,
   "metadata": {},
   "outputs": [],
   "source": [
    "A_new = pagerank_matrix(G_new)"
   ]
  },
  {
   "cell_type": "code",
   "execution_count": 59,
   "metadata": {},
   "outputs": [
    {
     "data": {
      "text/plain": [
       "array([[0. , 0. , 0.5, 0. , 0. ],\n",
       "       [1. , 0. , 0.5, 0. , 0. ],\n",
       "       [0. , 1. , 0. , 0. , 0. ],\n",
       "       [0. , 0. , 0. , 0. , 0.5],\n",
       "       [0. , 0. , 0. , 1. , 0.5]])"
      ]
     },
     "execution_count": 59,
     "metadata": {},
     "output_type": "execute_result"
    }
   ],
   "source": [
    "A_new"
   ]
  },
  {
   "cell_type": "code",
   "execution_count": 60,
   "metadata": {},
   "outputs": [],
   "source": [
    "x,l,res = power_method(A_new, np.random.random_sample(5), 100)"
   ]
  },
  {
   "cell_type": "code",
   "execution_count": 61,
   "metadata": {},
   "outputs": [
    {
     "data": {
      "text/plain": [
       "[<matplotlib.lines.Line2D at 0x210327111d0>]"
      ]
     },
     "execution_count": 61,
     "metadata": {},
     "output_type": "execute_result"
    },
    {
     "data": {
      "image/png": "[encoded data removed]",
      "text/plain": [
       "<Figure size 720x360 with 1 Axes>"
      ]
     },
     "metadata": {
      "needs_background": "light"
     },
     "output_type": "display_data"
    }
   ],
   "source": [
    "plt.figure(figsize=(10,5))\n",
    "plt.plot(res)"
   ]
  },
  {
   "cell_type": "code",
   "execution_count": 62,
   "metadata": {},
   "outputs": [
    {
     "data": {
      "text/plain": [
       "array([ 1. +0.j ,  1. +0.j , -0.5+0.5j, -0.5+0.j , -0.5-0.5j])"
      ]
     },
     "execution_count": 62,
     "metadata": {},
     "output_type": "execute_result"
    }
   ],
   "source": [
    "np.sort(np.linalg.eig(A_new)[0])[::-1]"
   ]
  },
  {
   "cell_type": "markdown",
   "metadata": {},
   "source": [
    "### As we can see $\\lambda_1$ and  $\\lambda_2$ here are different"
   ]
  },
  {
   "cell_type": "code",
   "execution_count": 72,
   "metadata": {},
   "outputs": [
    {
     "name": "stdout",
     "output_type": "stream",
     "text": [
      "[ 1.04816258  1.26433775  0.69242669 -0.3389469   1.12635296] [0.3169629  0.63392579 0.63392579 0.13842738 0.27685476]\n",
      "[-1.32421256  1.16729158  0.43287782  1.63263366 -0.19870614] [0.05103056 0.10206112 0.10206112 0.44194184 0.88388367]\n",
      "[-0.42478298 -0.42985998 -0.92906825  0.92904069 -0.02215987] [-0.28182769 -0.56365537 -0.56365537  0.23881306  0.47762613]\n",
      "[-1.977005   -1.3082576   0.99665624  0.05886222 -0.38447055] [-0.32824599 -0.65649199 -0.65649199 -0.07783458 -0.15566916]\n",
      "[ 1.5240456   0.3604421  -1.49080007  0.63670378  0.61860451] [0.08159262 0.16318525 0.16318525 0.43360899 0.86721799]\n",
      "[-0.70855037  0.27147164  1.71578714  0.40686663  0.50360914] [0.24967691 0.49935382 0.49935382 0.29629478 0.59258955]\n",
      "[ 0.40468824 -1.14736191 -0.72231692 -1.09513031 -0.33553857] [-0.21201989 -0.42403979 -0.42403979 -0.34508784 -0.69017568]\n",
      "[ 0.62347722 -0.75031382 -0.73986307 -1.07477189 -1.28812446] [-0.09439288 -0.18878576 -0.18878576 -0.42890788 -0.85781576]\n",
      "[-1.41126681 -0.81546548 -1.1407693  -0.37202899  1.81189131] [-0.29438284 -0.58876568 -0.58876568  0.20978498  0.41956996]\n",
      "[-0.0656818  -0.57528776 -0.27453008 -1.28480716 -0.58933915] [-0.12198323 -0.24396647 -0.24396647 -0.41619246 -0.83238492]\n"
     ]
    }
   ],
   "source": [
    "for i in range(1,11):\n",
    "    x0= np.random.randn(5)\n",
    "    x, _, _ = power_method(A_new, x0, 100)\n",
    "    print(x0,x)"
   ]
  },
  {
   "cell_type": "markdown",
   "metadata": {},
   "source": [
    "### They are differen because multiplicity of the largest eigenvalue is 2 (multiple eigenvalues correspond to one SET of collinear eigenvectors - there is ambiguity)"
   ]
  },
  {
   "cell_type": "code",
   "execution_count": null,
   "metadata": {},
   "outputs": [],
   "source": [
    "### They are differen because eigenvectors are determined up to a constant"
   ]
  },
  {
   "cell_type": "markdown",
   "metadata": {},
   "source": [
    "\n",
    "\n",
    "In order to avoid this problem Larry Page and Sergey Brin [proposed](http://ilpubs.stanford.edu:8090/422/1/1999-66.pdf) to use the following regularization technique:\n",
    "\n",
    "$$\n",
    "A_d = dA + \\frac{1-d}{N} \\begin{pmatrix} 1 & \\dots & 1 \\\\ \\vdots & & \\vdots \\\\ 1 & \\dots & 1 \\end{pmatrix},\n",
    "$$\n",
    "\n",
    "where $d$ is a small parameter in $[0,1]$ (typically $d=0.85$), which is called **damping factor**, $A$ is of size $N\\times N$. Now $A_d$ is the matrix with multiplicity of the largest eigenvalue equal to 1. \n",
    "Recall that computing the eigenvector of the PageRank matrix, which corresponds to the largest eigenvalue, has the following interpretation. Consider a person who stays in a random node of a graph (i.e. opens a random web page); at each step s/he follows one of the outcoming edges uniformly at random (i.e. opens one of the links). So the person randomly walks through the graph and the eigenvector we are looking for is exactly his/her stationary distribution â€” for each node it tells you the probability of visiting this particular node. Therefore, if the person has started from a part of the graph which is not connected with the other part, he will never get there.  In the regularized model, the person at each step follows one of the outcoming links with probability $d$ OR teleports to a random node from the whole graph with probability $(1-d)$.\n",
    "\n",
    "* (2 pts) Now, run the power method with $A_d$ and plot residuals $\\|A_d x_k - \\lambda_k x_k\\|_2$ as a function of $k$ for $d=0.97$, ```num_iter=100``` and a random initial guess ```x0```.\n",
    "\n",
    "* (5 pts) Find the second largest in the absolute value eigenvalue of the obtained matrix $A_d$. How and why is it connected to the damping factor $d$? What is the convergence rate of the PageRank algorithm when using damping factor?\n",
    "\n"
   ]
  },
  {
   "cell_type": "code",
   "execution_count": 287,
   "metadata": {},
   "outputs": [],
   "source": [
    "d = 0.97\n",
    "N =5"
   ]
  },
  {
   "cell_type": "code",
   "execution_count": 288,
   "metadata": {},
   "outputs": [],
   "source": [
    "A_d = d*A + ((1-d)/N)*np.ones_like(A)"
   ]
  },
  {
   "cell_type": "code",
   "execution_count": 289,
   "metadata": {},
   "outputs": [
    {
     "data": {
      "text/plain": [
       "array([[0.006, 0.006, 0.491, 0.006, 0.006],\n",
       "       [0.976, 0.006, 0.491, 0.006, 0.006],\n",
       "       [0.006, 0.976, 0.006, 0.006, 0.006],\n",
       "       [0.006, 0.006, 0.006, 0.006, 0.976],\n",
       "       [0.006, 0.006, 0.006, 0.976, 0.006]])"
      ]
     },
     "execution_count": 289,
     "metadata": {},
     "output_type": "execute_result"
    }
   ],
   "source": [
    "A_d"
   ]
  },
  {
   "cell_type": "code",
   "execution_count": 290,
   "metadata": {},
   "outputs": [],
   "source": [
    "x,l,res = power_method(A_d, (1,2,3,1,1), 100)"
   ]
  },
  {
   "cell_type": "code",
   "execution_count": 291,
   "metadata": {},
   "outputs": [
    {
     "data": {
      "text/plain": [
       "[<matplotlib.lines.Line2D at 0x2265a033f98>]"
      ]
     },
     "execution_count": 291,
     "metadata": {},
     "output_type": "execute_result"
    },
    {
     "data": {
      "image/png": "[encoded data removed]",
      "text/plain": [
       "<Figure size 720x360 with 1 Axes>"
      ]
     },
     "metadata": {
      "needs_background": "light"
     },
     "output_type": "display_data"
    }
   ],
   "source": [
    "plt.figure(figsize=(10,5))\n",
    "plt.plot(res)"
   ]
  },
  {
   "cell_type": "code",
   "execution_count": 292,
   "metadata": {},
   "outputs": [
    {
     "data": {
      "text/plain": [
       "0.9999777350111719"
      ]
     },
     "execution_count": 292,
     "metadata": {},
     "output_type": "execute_result"
    }
   ],
   "source": [
    "l"
   ]
  },
  {
   "cell_type": "markdown",
   "metadata": {},
   "source": [
    "### Let $B = A- \\lambda_i v_ix^{T} $ where $v_i^{T}x=1$. Then eigenvalues of B are 0, and $\\lambda_j$ for $j \\neq i$. Proof: $Bv_i = Av_i-\\lambda_i v_ix^Tv_i = (\\lambda_i - \\lambda_i(1))v_i=0 \\\\\n",
    "\\text{for } j \\neq i, B^Tw_i=(A-\\lambda_iv_ix^T)^Tw_j = A^Tw_j-\\lambda_ix(v_i^Tw_i) = A^Tw_i=\\lambda_jw_j$"
   ]
  },
  {
   "cell_type": "code",
   "execution_count": 293,
   "metadata": {},
   "outputs": [],
   "source": [
    "h = x*np.ones_like(x)/(np.linalg.norm(x, ord = 2)).reshape(1,-1)"
   ]
  },
  {
   "cell_type": "code",
   "execution_count": 294,
   "metadata": {},
   "outputs": [],
   "source": [
    "B = A_d - l*x*h"
   ]
  },
  {
   "cell_type": "code",
   "execution_count": 295,
   "metadata": {},
   "outputs": [
    {
     "data": {
      "text/plain": [
       "array([[-0.06637444, -0.2749771 ,  0.21277817, -0.17821331, -0.17821331],\n",
       "       [ 0.90362556, -0.2749771 ,  0.21277817, -0.17821331, -0.17821331],\n",
       "       [-0.06637444,  0.6950229 , -0.27222183, -0.17821331, -0.17821331],\n",
       "       [-0.06637444, -0.2749771 , -0.27222183, -0.17821331,  0.79178669],\n",
       "       [-0.06637444, -0.2749771 , -0.27222183,  0.79178669, -0.17821331]])"
      ]
     },
     "execution_count": 295,
     "metadata": {},
     "output_type": "execute_result"
    }
   ],
   "source": [
    "B"
   ]
  },
  {
   "cell_type": "code",
   "execution_count": 296,
   "metadata": {},
   "outputs": [
    {
     "data": {
      "text/plain": [
       "array([ 0.97      +0.j        , -0.36193584+0.51230793j,\n",
       "       -0.36193584-0.51230793j, -0.24612832+0.j        ,\n",
       "       -0.97      +0.j        ])"
      ]
     },
     "execution_count": 296,
     "metadata": {},
     "output_type": "execute_result"
    }
   ],
   "source": [
    "np.linalg.eig(B)[0]"
   ]
  },
  {
   "cell_type": "code",
   "execution_count": 305,
   "metadata": {},
   "outputs": [],
   "source": [
    "_, l, _  = power_method(B, (1,2,3,1,1), 100)"
   ]
  },
  {
   "cell_type": "code",
   "execution_count": 306,
   "metadata": {},
   "outputs": [
    {
     "data": {
      "text/plain": [
       "0.97"
      ]
     },
     "execution_count": 306,
     "metadata": {},
     "output_type": "execute_result"
    }
   ],
   "source": [
    "l"
   ]
  },
  {
   "cell_type": "markdown",
   "metadata": {},
   "source": [
    "### So, second eigenvalue of A_d is d - theoretical proof of this fact:\n",
    "http://www-cs-students.stanford.edu/~taherh/papers/secondeigenvalue.pdf"
   ]
  },
  {
   "cell_type": "markdown",
   "metadata": {},
   "source": [
    "Usually, graphs that arise in various areas are sparse (social, web, road networks, etc.) and, thus, computation of a matrix-vector product for corresponding PageRank matrix $A$ is much cheaper than $\\mathcal{O}(N^2)$. However, if $A_d$ is calculated directly, it becomes dense and, therefore, $\\mathcal{O}(N^2)$ cost grows prohibitively large for  big $N$.\n",
    "\n",
    "\n",
    "* (2 pts) Implement fast matrix-vector product for $A_d$ as a function ```pagerank_matvec(A, d, x)```, which takes a PageRank matrix $A$ (in sparse format, e.g., ```csr_matrix```), damping factor $d$ and a vector $x$ as an input and returns $A_dx$ as an output. \n",
    "\n",
    "* (1 pts) Generate a random adjacency matrix of size $10000 \\times 10000$ with only 100 non-zero elements and compare ```pagerank_matvec``` performance with direct evaluation of $A_dx$."
   ]
  },
  {
   "cell_type": "code",
   "execution_count": null,
   "metadata": {},
   "outputs": [],
   "source": []
  },
  {
   "cell_type": "code",
   "execution_count": 194,
   "metadata": {},
   "outputs": [],
   "source": [
    "def pagerank_matvec(A, d, x): # 2 pts\n",
    "    # enter your code here\n",
    "    N = A.shape[0]\n",
    "    sum_ = np.sum(x)\n",
    "    y = d * A@x + (1-d)/N * sum_\n",
    "    return y"
   ]
  },
  {
   "cell_type": "code",
   "execution_count": 423,
   "metadata": {},
   "outputs": [
    {
     "name": "stdout",
     "output_type": "stream",
     "text": [
      "(10000, 10000)\n",
      "Naive 0.09395320000112406\n",
      "Matvec 0.011525800000526942\n"
     ]
    }
   ],
   "source": [
    "from scipy.sparse import random as rand_mat\n",
    "import time \n",
    "\n",
    "\n",
    "k = 100\n",
    "n = 10000\n",
    "A = rand_mat(n, n, density=k/(n*n), format='csr', dtype='float32')\n",
    "print(A.shape)\n",
    "Ad = d * A + (1 - d)/n * np.ones((n,n))\n",
    "x0 = np.random.rand(A.shape[0], 1)\n",
    "\n",
    "start_time1 = time.perf_counter()\n",
    "y = pagerank_matvec(A, d, x0)\n",
    "matvec_time = time.perf_counter() - start_time1\n",
    "\n",
    "start_time2 = time.perf_counter()\n",
    "y = Ad@x0\n",
    "naive_time = time.perf_counter()  - start_time2\n",
    "\n",
    "print(f'Naive {naive_time}')\n",
    "print(f'Matvec {matvec_time}')"
   ]
  },
  {
   "cell_type": "markdown",
   "metadata": {},
   "source": [
    "### We do smart computation using fact that A is sparse. We split out computation on 2 parts: with sparse matrix and with simple full of ones matrix "
   ]
  },
  {
   "cell_type": "markdown",
   "metadata": {},
   "source": [
    "#### DBLP: computer science bibliography\n",
    "\n",
    "Download the dataset from [here](https://goo.gl/oZVxEa), unzip it and put `dblp_authors.npz`  and `dblp_graph.npz` in the same folder with this notebook. Each value (author name) from `dblp_authors.npz` corresponds to the row/column of the matrix from `dblp_graph.npz`. Value at row `i` and column `j` of the matrix from `dblp_graph.npz` corresponds to the number of times author `i` cited papers of the author `j`. Let us now find the most significant scientists according to PageRank model over DBLP data.\n",
    "\n",
    "* (4 pts) Load the weighted adjacency matrix and the authors list into Python using ```load_dblp(...)``` function. Print its density (fraction of nonzero elements). Find top-10 most cited authors from the weighted adjacency matrix. Now, make all the weights of the adjacency matrix equal to 1 for simplicity (consider only existence of connection between authors, not its weight). Obtain the PageRank matrix $A$ from the adjacency matrix and verify that it is stochastic.\n",
    " \n",
    " \n",
    "* (1 pts) In order to provide ```pagerank_matvec``` to your ```power_method``` (without rewriting it) for fast calculation of $A_dx$, you can create a ```LinearOperator```: \n",
    "```python\n",
    "L = scipy.sparse.linalg.LinearOperator(A.shape, matvec=lambda x, A=A, d=d: pagerank_matvec(A, d, x))\n",
    "```\n",
    "Calling ```L@x``` or ```L.dot(x)``` will result in calculation of ```pagerank_matvec(A, d, x)``` and, thus, you can plug $L$ instead of the matrix $A$ in the ```power_method``` directly. **Note:** though in the previous subtask graph was very small (so you could disparage fast matvec implementation), here it is very large (but sparse), so that direct evaluation of $A_dx$ will require $\\sim 10^{12}$ matrix elements to store - good luck with that (^_<).\n",
    "\n",
    "\n",
    "* (2 pts) Run the power method starting from the vector of all ones and plot residuals $\\|A_dx_k - \\lambda_k x_k\\|_2$  as a function of $k$ for $d=0.85$.\n",
    "\n",
    "\n",
    "* (1 pts) Print names of the top-10 authors according to PageRank over DBLP when $d=0.85$. Comment on your findings."
   ]
  },
  {
   "cell_type": "code",
   "execution_count": 196,
   "metadata": {},
   "outputs": [],
   "source": [
    "from scipy.sparse import load_npz\n",
    "from scipy.sparse import csr_matrix\n",
    "import numpy as np\n",
    "def load_dblp(path_auth, path_graph):\n",
    "    G = load_npz(path_graph).astype(float)\n",
    "    with np.load(path_auth) as data: authors = data['authors']\n",
    "    return G, authors\n",
    "G, authors = load_dblp('dblp_authors.npz', 'dblp_graph.npz')"
   ]
  },
  {
   "cell_type": "code",
   "execution_count": 197,
   "metadata": {},
   "outputs": [
    {
     "data": {
      "text/plain": [
       "(1766547, 1766547)"
      ]
     },
     "execution_count": 197,
     "metadata": {},
     "output_type": "execute_result"
    }
   ],
   "source": [
    "G.shape"
   ]
  },
  {
   "cell_type": "code",
   "execution_count": 198,
   "metadata": {},
   "outputs": [],
   "source": [
    "n = np.sum(G, axis = 0)"
   ]
  },
  {
   "cell_type": "code",
   "execution_count": 148,
   "metadata": {},
   "outputs": [
    {
     "data": {
      "text/plain": [
       "1195923"
      ]
     },
     "execution_count": 148,
     "metadata": {},
     "output_type": "execute_result"
    }
   ],
   "source": [
    "np.count_nonzero(n)"
   ]
  },
  {
   "cell_type": "markdown",
   "metadata": {},
   "source": [
    "### Fraction of nonzero elements:"
   ]
  },
  {
   "cell_type": "code",
   "execution_count": 149,
   "metadata": {},
   "outputs": [
    {
     "data": {
      "text/plain": [
       "0.6769834032154254"
      ]
     },
     "execution_count": 149,
     "metadata": {},
     "output_type": "execute_result"
    }
   ],
   "source": [
    "np.count_nonzero(n)/G.shape[0]"
   ]
  },
  {
   "cell_type": "code",
   "execution_count": 150,
   "metadata": {},
   "outputs": [],
   "source": [
    "top = np.asarray(np.argsort(n))[0][-10:]"
   ]
  },
  {
   "cell_type": "code",
   "execution_count": 151,
   "metadata": {},
   "outputs": [
    {
     "name": "stdout",
     "output_type": "stream",
     "text": [
      "David G. Lowe 335649\n",
      "David E. Culler 334688\n",
      "Ion Stoica 633904\n",
      "Jitendra Malik 732480\n",
      "Cordelia Schmid 293002\n",
      "Anil K. Jain 108524\n",
      "Jiawei Han 720105\n",
      "Hari Balakrishnan 563408\n",
      "Andrew Zisserman 101227\n",
      "Scott Shenker 1391413\n"
     ]
    }
   ],
   "source": [
    "for i in top:\n",
    "    print(authors[int(i)], int(i))"
   ]
  },
  {
   "cell_type": "code",
   "execution_count": 152,
   "metadata": {},
   "outputs": [],
   "source": [
    "G_ones = (G.astype(bool)).astype(int)"
   ]
  },
  {
   "cell_type": "code",
   "execution_count": 153,
   "metadata": {},
   "outputs": [
    {
     "data": {
      "text/plain": [
       "array([1., 1., 1., ..., 1., 1., 1.])"
      ]
     },
     "execution_count": 153,
     "metadata": {},
     "output_type": "execute_result"
    }
   ],
   "source": [
    "G.data"
   ]
  },
  {
   "cell_type": "code",
   "execution_count": 222,
   "metadata": {},
   "outputs": [],
   "source": []
  },
  {
   "cell_type": "code",
   "execution_count": 223,
   "metadata": {},
   "outputs": [
    {
     "name": "stdout",
     "output_type": "stream",
     "text": [
      "0\n"
     ]
    }
   ],
   "source": [
    "A = pagerank_matrix(G_ones)"
   ]
  },
  {
   "cell_type": "code",
   "execution_count": 225,
   "metadata": {},
   "outputs": [
    {
     "data": {
      "text/plain": [
       "array([0.05555556, 0.05555556, 0.05555556, ..., 0.09090909, 0.09090909,\n",
       "       0.09090909])"
      ]
     },
     "execution_count": 225,
     "metadata": {},
     "output_type": "execute_result"
    }
   ],
   "source": [
    "A.data"
   ]
  },
  {
   "cell_type": "markdown",
   "metadata": {},
   "source": [
    "### Check that marlix is left stochastic(if you don't notice zeros)"
   ]
  },
  {
   "cell_type": "code",
   "execution_count": 231,
   "metadata": {},
   "outputs": [
    {
     "name": "stdout",
     "output_type": "stream",
     "text": [
      "Counter({1.0: 748133, 0.0: 313520, 0.9999999999999998: 290426, 0.9999999999999999: 164977, 1.0000000000000002: 164549, 0.9999999999999997: 48205, 0.9999999999999996: 23729, 1.0000000000000004: 9650, 0.9999999999999994: 2177, 0.9999999999999993: 1181})\n"
     ]
    },
    {
     "data": {
      "text/plain": [
       "True"
      ]
     },
     "execution_count": 231,
     "metadata": {},
     "output_type": "execute_result"
    }
   ],
   "source": [
    "from collections import Counter\n",
    "\n",
    "s = np.asarray(A.sum(axis = 0))\n",
    "cnt = Counter(np.squeeze(s))\n",
    "print(cnt)\n",
    "eps = 10 ** (-10)\n",
    "((abs(s-1) < eps).astype(int) + (abs(s) <eps ).astype(int)).all() #Check "
   ]
  },
  {
   "cell_type": "code",
   "execution_count": 229,
   "metadata": {},
   "outputs": [
    {
     "data": {
      "text/plain": [
       "array([[0., 1., 1., ..., 1., 0., 0.]])"
      ]
     },
     "execution_count": 229,
     "metadata": {},
     "output_type": "execute_result"
    }
   ],
   "source": [
    "s"
   ]
  },
  {
   "cell_type": "code",
   "execution_count": 232,
   "metadata": {},
   "outputs": [],
   "source": [
    "from scipy.sparse import linalg"
   ]
  },
  {
   "cell_type": "code",
   "execution_count": 233,
   "metadata": {},
   "outputs": [],
   "source": [
    "d = 0.85"
   ]
  },
  {
   "cell_type": "code",
   "execution_count": 234,
   "metadata": {},
   "outputs": [],
   "source": [
    "L = linalg.LinearOperator(A.shape, matvec=lambda x, A=A, d=d: pagerank_matvec(A, d, x))"
   ]
  },
  {
   "cell_type": "code",
   "execution_count": 235,
   "metadata": {},
   "outputs": [
    {
     "data": {
      "text/plain": [
       "1766547"
      ]
     },
     "execution_count": 235,
     "metadata": {},
     "output_type": "execute_result"
    }
   ],
   "source": [
    "L.shape[0]"
   ]
  },
  {
   "cell_type": "code",
   "execution_count": 236,
   "metadata": {},
   "outputs": [],
   "source": [
    "x,l,res = power_method(L, np.random.random_sample(L.shape[0]), 20)"
   ]
  },
  {
   "cell_type": "code",
   "execution_count": 237,
   "metadata": {},
   "outputs": [
    {
     "data": {
      "text/plain": [
       "[<matplotlib.lines.Line2D at 0x22659e21c50>]"
      ]
     },
     "execution_count": 237,
     "metadata": {},
     "output_type": "execute_result"
    },
    {
     "data": {
      "image/png": "[encoded data removed]",
      "text/plain": [
       "<Figure size 720x360 with 1 Axes>"
      ]
     },
     "metadata": {
      "needs_background": "light"
     },
     "output_type": "display_data"
    }
   ],
   "source": [
    "plt.figure(figsize=(10,5))\n",
    "plt.plot(res)"
   ]
  },
  {
   "cell_type": "code",
   "execution_count": 238,
   "metadata": {},
   "outputs": [
    {
     "data": {
      "text/plain": [
       "array([ 505969, 1313064,   66090, 1516121,  108524, 1330562,  151524,\n",
       "        745295, 1304778,  334728], dtype=int64)"
      ]
     },
     "execution_count": 238,
     "metadata": {},
     "output_type": "execute_result"
    }
   ],
   "source": [
    "np.argsort(x)[-10:]"
   ]
  },
  {
   "cell_type": "code",
   "execution_count": 239,
   "metadata": {},
   "outputs": [
    {
     "name": "stdout",
     "output_type": "stream",
     "text": [
      "Gerard Salton 505969\n",
      "Robert Endre Tarjan 1313064\n",
      "Alfred V. Aho 66090\n",
      "Takeo Kanade 1516121\n",
      "Anil K. Jain 108524\n",
      "Ronald L. Rivest 1330562\n",
      "Azriel Rosenfeld 151524\n",
      "John E. Hopcroft 745295\n",
      "Richard M. Karp 1304778\n",
      "David E. Goldberg 334728\n"
     ]
    }
   ],
   "source": [
    "for i in np.argsort(x)[-10:]:\n",
    "    \n",
    "    print(authors[int(i)], int(i))\n",
    "    "
   ]
  },
  {
   "cell_type": "code",
   "execution_count": null,
   "metadata": {},
   "outputs": [],
   "source": []
  }
 ],
 "metadata": {
  "kernelspec": {
   "display_name": "Python 3",
   "language": "python",
   "name": "python3"
  },
  "language_info": {
   "codemirror_mode": {
    "name": "ipython",
    "version": 3
   },
   "file_extension": ".py",
   "mimetype": "text/x-python",
   "name": "python",
   "nbconvert_exporter": "python",
   "pygments_lexer": "ipython3",
   "version": "3.7.3"
  },
  "toc": {
   "base_numbering": 1,
   "nav_menu": {},
   "number_sections": true,
   "sideBar": true,
   "skip_h1_title": false,
   "title_cell": "Table of Contents",
   "title_sidebar": "Contents",
   "toc_cell": false,
   "toc_position": {},
   "toc_section_display": true,
   "toc_window_display": false
  }
 },
 "nbformat": 4,
 "nbformat_minor": 2
}
